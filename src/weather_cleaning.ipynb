{
 "cells": [
  {
   "cell_type": "code",
   "execution_count": 1,
   "metadata": {},
   "outputs": [],
   "source": [
    "import os, sys\n",
    "import pandas as pd\n",
    "import math\n",
    "import numpy as np\n",
    "import matplotlib.pyplot as plt\n",
    "import seaborn as sns\n",
    "from collections import Counter\n",
    "import importlib.util\n",
    "\n",
    "\n",
    "# Get current path from where script is executed\n",
    "if os.name == 'nt':\n",
    "    sep = '\\\\'\n",
    "elif os.name == 'posix':\n",
    "    sep = '/'\n",
    "else:\n",
    "    print(f'What is this OS? {os.name}')\n",
    "\n",
    "path = os.getcwd()\n",
    "path_datasets = path[:-len(f'Code{sep}src{sep}project_CSP_MATH_571')] + f'DataSets{sep}weather{sep}'\n",
    "\n",
    "\n",
    "#MapGenerator Lib\n",
    "path_maps = path + f'{sep}mapGeneration{sep}mapGeneration.py'\n",
    "spec = importlib.util.spec_from_file_location(\"mapGeneration\", path_maps)\n",
    "mp = importlib.util.module_from_spec(spec)\n",
    "spec.loader.exec_module(mp)\n"
   ]
  },
  {
   "cell_type": "markdown",
   "metadata": {},
   "source": [
    "### Load Data "
   ]
  },
  {
   "cell_type": "code",
   "execution_count": 2,
   "metadata": {},
   "outputs": [
    {
     "data": {
      "text/html": [
       "<div>\n",
       "<style scoped>\n",
       "    .dataframe tbody tr th:only-of-type {\n",
       "        vertical-align: middle;\n",
       "    }\n",
       "\n",
       "    .dataframe tbody tr th {\n",
       "        vertical-align: top;\n",
       "    }\n",
       "\n",
       "    .dataframe thead th {\n",
       "        text-align: right;\n",
       "    }\n",
       "</style>\n",
       "<table border=\"1\" class=\"dataframe\">\n",
       "  <thead>\n",
       "    <tr style=\"text-align: right;\">\n",
       "      <th></th>\n",
       "      <th>station</th>\n",
       "      <th>valid</th>\n",
       "      <th>tmpf</th>\n",
       "      <th>relh</th>\n",
       "      <th>drct</th>\n",
       "      <th>sknt</th>\n",
       "      <th>p01m</th>\n",
       "      <th>skyc1</th>\n",
       "    </tr>\n",
       "  </thead>\n",
       "  <tbody>\n",
       "    <tr>\n",
       "      <th>0</th>\n",
       "      <td>ORD</td>\n",
       "      <td>2017-01-01 00:51</td>\n",
       "      <td>23.00</td>\n",
       "      <td>84.39</td>\n",
       "      <td>250.00</td>\n",
       "      <td>4.00</td>\n",
       "      <td>0.00</td>\n",
       "      <td>CLR</td>\n",
       "    </tr>\n",
       "    <tr>\n",
       "      <th>1</th>\n",
       "      <td>ORD</td>\n",
       "      <td>2017-01-01 01:51</td>\n",
       "      <td>21.00</td>\n",
       "      <td>84.62</td>\n",
       "      <td>0.00</td>\n",
       "      <td>0.00</td>\n",
       "      <td>0.00</td>\n",
       "      <td>CLR</td>\n",
       "    </tr>\n",
       "    <tr>\n",
       "      <th>2</th>\n",
       "      <td>ORD</td>\n",
       "      <td>2017-01-01 02:51</td>\n",
       "      <td>21.00</td>\n",
       "      <td>87.97</td>\n",
       "      <td>210.00</td>\n",
       "      <td>4.00</td>\n",
       "      <td>0.00</td>\n",
       "      <td>CLR</td>\n",
       "    </tr>\n",
       "    <tr>\n",
       "      <th>3</th>\n",
       "      <td>ORD</td>\n",
       "      <td>2017-01-01 03:51</td>\n",
       "      <td>19.00</td>\n",
       "      <td>87.87</td>\n",
       "      <td>190.00</td>\n",
       "      <td>5.00</td>\n",
       "      <td>0.00</td>\n",
       "      <td>CLR</td>\n",
       "    </tr>\n",
       "    <tr>\n",
       "      <th>4</th>\n",
       "      <td>ORD</td>\n",
       "      <td>2017-01-01 04:51</td>\n",
       "      <td>21.00</td>\n",
       "      <td>87.97</td>\n",
       "      <td>200.00</td>\n",
       "      <td>4.00</td>\n",
       "      <td>0.00</td>\n",
       "      <td>CLR</td>\n",
       "    </tr>\n",
       "  </tbody>\n",
       "</table>\n",
       "</div>"
      ],
      "text/plain": [
       "  station             valid   tmpf   relh    drct  sknt  p01m skyc1\n",
       "0     ORD  2017-01-01 00:51  23.00  84.39  250.00  4.00  0.00   CLR\n",
       "1     ORD  2017-01-01 01:51  21.00  84.62    0.00  0.00  0.00   CLR\n",
       "2     ORD  2017-01-01 02:51  21.00  87.97  210.00  4.00  0.00   CLR\n",
       "3     ORD  2017-01-01 03:51  19.00  87.87  190.00  5.00  0.00   CLR\n",
       "4     ORD  2017-01-01 04:51  21.00  87.97  200.00  4.00  0.00   CLR"
      ]
     },
     "execution_count": 2,
     "metadata": {},
     "output_type": "execute_result"
    }
   ],
   "source": [
    "# Read csv\n",
    "datasets = os.listdir(path_datasets)\n",
    "\n",
    "df_list = []\n",
    "for dataset in datasets:\n",
    "    if dataset[-4:] == '.csv':\n",
    "        df = pd.read_csv(path_datasets + dataset, index_col=None, header=0)\n",
    "        df_list.append(df)\n",
    "\n",
    "\n",
    "# Merge Taxis Data\n",
    "df = pd.concat(df_list, axis=0, ignore_index=True)\n",
    "\n",
    "del(df_list)\n",
    "\n",
    "df.head()"
   ]
  },
  {
   "cell_type": "code",
   "execution_count": 3,
   "metadata": {},
   "outputs": [
    {
     "data": {
      "text/plain": [
       "(34278, 8)"
      ]
     },
     "execution_count": 3,
     "metadata": {},
     "output_type": "execute_result"
    }
   ],
   "source": [
    "df.shape"
   ]
  },
  {
   "cell_type": "code",
   "execution_count": null,
   "metadata": {},
   "outputs": [],
   "source": []
  }
 ],
 "metadata": {
  "kernelspec": {
   "display_name": "Python 3",
   "language": "python",
   "name": "python3"
  },
  "language_info": {
   "codemirror_mode": {
    "name": "ipython",
    "version": 3
   },
   "file_extension": ".py",
   "mimetype": "text/x-python",
   "name": "python",
   "nbconvert_exporter": "python",
   "pygments_lexer": "ipython3",
   "version": "3.7.6"
  }
 },
 "nbformat": 4,
 "nbformat_minor": 4
}
