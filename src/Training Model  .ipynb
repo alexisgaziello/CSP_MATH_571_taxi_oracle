{
 "cells": [
  {
   "cell_type": "code",
   "execution_count": 108,
   "metadata": {},
   "outputs": [],
   "source": [
    "import numpy as np"
   ]
  },
  {
   "cell_type": "code",
   "execution_count": 109,
   "metadata": {},
   "outputs": [
    {
     "name": "stdout",
     "output_type": "stream",
     "text": [
      "C:\\Users\\Iconsense\\abhishek\\taxi\n"
     ]
    }
   ],
   "source": [
    "cd \"C:/Users/Iconsense/abhishek/taxi\""
   ]
  },
  {
   "cell_type": "code",
   "execution_count": 110,
   "metadata": {},
   "outputs": [],
   "source": [
    "import pandas as pd\n",
    "df = pd.read_csv('dataset_final.csv')"
   ]
  },
  {
   "cell_type": "code",
   "execution_count": 111,
   "metadata": {},
   "outputs": [],
   "source": [
    "df.drop(columns=['trip_start_timestamp.1','pickup_community_area.1'],inplace=True)"
   ]
  },
  {
   "cell_type": "code",
   "execution_count": 112,
   "metadata": {
    "scrolled": true
   },
   "outputs": [
    {
     "data": {
      "text/html": [
       "<div>\n",
       "<style scoped>\n",
       "    .dataframe tbody tr th:only-of-type {\n",
       "        vertical-align: middle;\n",
       "    }\n",
       "\n",
       "    .dataframe tbody tr th {\n",
       "        vertical-align: top;\n",
       "    }\n",
       "\n",
       "    .dataframe thead th {\n",
       "        text-align: right;\n",
       "    }\n",
       "</style>\n",
       "<table border=\"1\" class=\"dataframe\">\n",
       "  <thead>\n",
       "    <tr style=\"text-align: right;\">\n",
       "      <th></th>\n",
       "      <th>trip_start_timestamp</th>\n",
       "      <th>pickup_community_area</th>\n",
       "      <th>Trips</th>\n",
       "      <th>temperature</th>\n",
       "      <th>relative_humidity</th>\n",
       "      <th>wind_direction</th>\n",
       "      <th>wind_speed</th>\n",
       "      <th>precipitation</th>\n",
       "      <th>daytype</th>\n",
       "      <th>sky_level</th>\n",
       "      <th>Day Name</th>\n",
       "      <th>Month</th>\n",
       "      <th>Hour</th>\n",
       "      <th>Quarter</th>\n",
       "      <th>Fare Last Month</th>\n",
       "      <th>Tips Last Month</th>\n",
       "      <th>Trips Last Hour</th>\n",
       "      <th>Trips Last Week (Same Hour)</th>\n",
       "      <th>Trips 2 Weeks Ago (Same Hour)</th>\n",
       "    </tr>\n",
       "  </thead>\n",
       "  <tbody>\n",
       "    <tr>\n",
       "      <th>0</th>\n",
       "      <td>2017-01-16 00:00:00</td>\n",
       "      <td>1</td>\n",
       "      <td>1</td>\n",
       "      <td>30.0</td>\n",
       "      <td>78.4</td>\n",
       "      <td>130.0</td>\n",
       "      <td>4.0</td>\n",
       "      <td>0.0</td>\n",
       "      <td>U</td>\n",
       "      <td>OVC</td>\n",
       "      <td>Monday</td>\n",
       "      <td>1</td>\n",
       "      <td>0</td>\n",
       "      <td>1</td>\n",
       "      <td>32055.00</td>\n",
       "      <td>1485.59</td>\n",
       "      <td>7</td>\n",
       "      <td>4</td>\n",
       "      <td>2</td>\n",
       "    </tr>\n",
       "    <tr>\n",
       "      <th>1</th>\n",
       "      <td>2017-01-16 00:00:00</td>\n",
       "      <td>2</td>\n",
       "      <td>0</td>\n",
       "      <td>30.0</td>\n",
       "      <td>78.4</td>\n",
       "      <td>130.0</td>\n",
       "      <td>4.0</td>\n",
       "      <td>0.0</td>\n",
       "      <td>U</td>\n",
       "      <td>OVC</td>\n",
       "      <td>Monday</td>\n",
       "      <td>1</td>\n",
       "      <td>0</td>\n",
       "      <td>1</td>\n",
       "      <td>36413.10</td>\n",
       "      <td>1224.73</td>\n",
       "      <td>1</td>\n",
       "      <td>3</td>\n",
       "      <td>2</td>\n",
       "    </tr>\n",
       "    <tr>\n",
       "      <th>2</th>\n",
       "      <td>2017-01-16 00:00:00</td>\n",
       "      <td>3</td>\n",
       "      <td>4</td>\n",
       "      <td>30.0</td>\n",
       "      <td>78.4</td>\n",
       "      <td>130.0</td>\n",
       "      <td>4.0</td>\n",
       "      <td>0.0</td>\n",
       "      <td>U</td>\n",
       "      <td>OVC</td>\n",
       "      <td>Monday</td>\n",
       "      <td>1</td>\n",
       "      <td>0</td>\n",
       "      <td>1</td>\n",
       "      <td>65230.40</td>\n",
       "      <td>3568.52</td>\n",
       "      <td>8</td>\n",
       "      <td>3</td>\n",
       "      <td>4</td>\n",
       "    </tr>\n",
       "    <tr>\n",
       "      <th>3</th>\n",
       "      <td>2017-01-16 00:00:00</td>\n",
       "      <td>4</td>\n",
       "      <td>3</td>\n",
       "      <td>30.0</td>\n",
       "      <td>78.4</td>\n",
       "      <td>130.0</td>\n",
       "      <td>4.0</td>\n",
       "      <td>0.0</td>\n",
       "      <td>U</td>\n",
       "      <td>OVC</td>\n",
       "      <td>Monday</td>\n",
       "      <td>1</td>\n",
       "      <td>0</td>\n",
       "      <td>1</td>\n",
       "      <td>46732.45</td>\n",
       "      <td>2536.66</td>\n",
       "      <td>0</td>\n",
       "      <td>5</td>\n",
       "      <td>3</td>\n",
       "    </tr>\n",
       "    <tr>\n",
       "      <th>4</th>\n",
       "      <td>2017-01-16 00:00:00</td>\n",
       "      <td>5</td>\n",
       "      <td>2</td>\n",
       "      <td>30.0</td>\n",
       "      <td>78.4</td>\n",
       "      <td>130.0</td>\n",
       "      <td>4.0</td>\n",
       "      <td>0.0</td>\n",
       "      <td>U</td>\n",
       "      <td>OVC</td>\n",
       "      <td>Monday</td>\n",
       "      <td>1</td>\n",
       "      <td>0</td>\n",
       "      <td>1</td>\n",
       "      <td>33088.75</td>\n",
       "      <td>1832.27</td>\n",
       "      <td>2</td>\n",
       "      <td>1</td>\n",
       "      <td>1</td>\n",
       "    </tr>\n",
       "  </tbody>\n",
       "</table>\n",
       "</div>"
      ],
      "text/plain": [
       "  trip_start_timestamp  pickup_community_area  Trips  temperature  \\\n",
       "0  2017-01-16 00:00:00                      1      1         30.0   \n",
       "1  2017-01-16 00:00:00                      2      0         30.0   \n",
       "2  2017-01-16 00:00:00                      3      4         30.0   \n",
       "3  2017-01-16 00:00:00                      4      3         30.0   \n",
       "4  2017-01-16 00:00:00                      5      2         30.0   \n",
       "\n",
       "   relative_humidity  wind_direction  wind_speed  precipitation daytype  \\\n",
       "0               78.4           130.0         4.0            0.0       U   \n",
       "1               78.4           130.0         4.0            0.0       U   \n",
       "2               78.4           130.0         4.0            0.0       U   \n",
       "3               78.4           130.0         4.0            0.0       U   \n",
       "4               78.4           130.0         4.0            0.0       U   \n",
       "\n",
       "  sky_level Day Name  Month  Hour  Quarter  Fare Last Month  Tips Last Month  \\\n",
       "0       OVC   Monday      1     0        1         32055.00          1485.59   \n",
       "1       OVC   Monday      1     0        1         36413.10          1224.73   \n",
       "2       OVC   Monday      1     0        1         65230.40          3568.52   \n",
       "3       OVC   Monday      1     0        1         46732.45          2536.66   \n",
       "4       OVC   Monday      1     0        1         33088.75          1832.27   \n",
       "\n",
       "   Trips Last Hour  Trips Last Week (Same Hour)  Trips 2 Weeks Ago (Same Hour)  \n",
       "0                7                            4                              2  \n",
       "1                1                            3                              2  \n",
       "2                8                            3                              4  \n",
       "3                0                            5                              3  \n",
       "4                2                            1                              1  "
      ]
     },
     "execution_count": 112,
     "metadata": {},
     "output_type": "execute_result"
    }
   ],
   "source": [
    "df.head()"
   ]
  },
  {
   "cell_type": "code",
   "execution_count": 113,
   "metadata": {},
   "outputs": [
    {
     "data": {
      "text/plain": [
       "1920149"
      ]
     },
     "execution_count": 113,
     "metadata": {},
     "output_type": "execute_result"
    }
   ],
   "source": [
    "len(df)"
   ]
  },
  {
   "cell_type": "code",
   "execution_count": 114,
   "metadata": {},
   "outputs": [
    {
     "data": {
      "text/plain": [
       "77"
      ]
     },
     "execution_count": 114,
     "metadata": {},
     "output_type": "execute_result"
    }
   ],
   "source": [
    "df['pickup_community_area'].nunique()"
   ]
  },
  {
   "cell_type": "code",
   "execution_count": 115,
   "metadata": {},
   "outputs": [
    {
     "data": {
      "text/plain": [
       "Index(['trip_start_timestamp', 'pickup_community_area', 'Trips', 'temperature',\n",
       "       'relative_humidity', 'wind_direction', 'wind_speed', 'precipitation',\n",
       "       'daytype', 'sky_level', 'Day Name', 'Month', 'Hour', 'Quarter',\n",
       "       'Fare Last Month', 'Tips Last Month', 'Trips Last Hour',\n",
       "       'Trips Last Week (Same Hour)', 'Trips 2 Weeks Ago (Same Hour)'],\n",
       "      dtype='object')"
      ]
     },
     "execution_count": 115,
     "metadata": {},
     "output_type": "execute_result"
    }
   ],
   "source": [
    "df.columns"
   ]
  },
  {
   "cell_type": "code",
   "execution_count": 116,
   "metadata": {},
   "outputs": [],
   "source": [
    "# for i in feature_list:\n",
    "#     print(str(i)+\" : \"+ str(min(df[i])))"
   ]
  },
  {
   "cell_type": "code",
   "execution_count": 117,
   "metadata": {},
   "outputs": [
    {
     "name": "stdout",
     "output_type": "stream",
     "text": [
      "<class 'pandas.core.frame.DataFrame'>\n",
      "RangeIndex: 1920149 entries, 0 to 1920148\n",
      "Data columns (total 19 columns):\n",
      " #   Column                         Dtype  \n",
      "---  ------                         -----  \n",
      " 0   trip_start_timestamp           object \n",
      " 1   pickup_community_area          int64  \n",
      " 2   Trips                          int64  \n",
      " 3   temperature                    float64\n",
      " 4   relative_humidity              float64\n",
      " 5   wind_direction                 float64\n",
      " 6   wind_speed                     float64\n",
      " 7   precipitation                  float64\n",
      " 8   daytype                        object \n",
      " 9   sky_level                      object \n",
      " 10  Day Name                       object \n",
      " 11  Month                          int64  \n",
      " 12  Hour                           int64  \n",
      " 13  Quarter                        int64  \n",
      " 14  Fare Last Month                float64\n",
      " 15  Tips Last Month                float64\n",
      " 16  Trips Last Hour                int64  \n",
      " 17  Trips Last Week (Same Hour)    int64  \n",
      " 18  Trips 2 Weeks Ago (Same Hour)  int64  \n",
      "dtypes: float64(7), int64(8), object(4)\n",
      "memory usage: 278.3+ MB\n"
     ]
    }
   ],
   "source": [
    "df.info()"
   ]
  },
  {
   "cell_type": "code",
   "execution_count": null,
   "metadata": {},
   "outputs": [],
   "source": []
  },
  {
   "cell_type": "code",
   "execution_count": 118,
   "metadata": {},
   "outputs": [
    {
     "data": {
      "text/plain": [
       "<matplotlib.axes._subplots.AxesSubplot at 0x1841c9aa308>"
      ]
     },
     "execution_count": 118,
     "metadata": {},
     "output_type": "execute_result"
    },
    {
     "data": {
      "image/png": "[encoded data removed]",
      "text/plain": [
       "<Figure size 432x288 with 1 Axes>"
      ]
     },
     "metadata": {
      "needs_background": "light"
     },
     "output_type": "display_data"
    }
   ],
   "source": [
    "df.plot(x ='pickup_community_area', y='Trips', kind = 'scatter')"
   ]
  },
  {
   "cell_type": "code",
   "execution_count": null,
   "metadata": {},
   "outputs": [],
   "source": []
  },
  {
   "cell_type": "code",
   "execution_count": null,
   "metadata": {},
   "outputs": [],
   "source": []
  },
  {
   "cell_type": "code",
   "execution_count": 119,
   "metadata": {},
   "outputs": [],
   "source": [
    "df['trip_start_timestamp'] = pd.to_datetime(df['trip_start_timestamp'])\n",
    "\n",
    "df['weekofyear']=df['trip_start_timestamp'].dt.weekofyear\n",
    "\n",
    "df['day'] = df['trip_start_timestamp'].dt.day\n",
    "\n",
    "df['year'] = df['trip_start_timestamp'].dt.year\n"
   ]
  },
  {
   "cell_type": "code",
   "execution_count": 120,
   "metadata": {},
   "outputs": [
    {
     "data": {
      "text/html": [
       "<div>\n",
       "<style scoped>\n",
       "    .dataframe tbody tr th:only-of-type {\n",
       "        vertical-align: middle;\n",
       "    }\n",
       "\n",
       "    .dataframe tbody tr th {\n",
       "        vertical-align: top;\n",
       "    }\n",
       "\n",
       "    .dataframe thead th {\n",
       "        text-align: right;\n",
       "    }\n",
       "</style>\n",
       "<table border=\"1\" class=\"dataframe\">\n",
       "  <thead>\n",
       "    <tr style=\"text-align: right;\">\n",
       "      <th></th>\n",
       "      <th>trip_start_timestamp</th>\n",
       "      <th>pickup_community_area</th>\n",
       "      <th>Trips</th>\n",
       "      <th>temperature</th>\n",
       "      <th>relative_humidity</th>\n",
       "      <th>wind_direction</th>\n",
       "      <th>wind_speed</th>\n",
       "      <th>precipitation</th>\n",
       "      <th>daytype</th>\n",
       "      <th>sky_level</th>\n",
       "      <th>...</th>\n",
       "      <th>Hour</th>\n",
       "      <th>Quarter</th>\n",
       "      <th>Fare Last Month</th>\n",
       "      <th>Tips Last Month</th>\n",
       "      <th>Trips Last Hour</th>\n",
       "      <th>Trips Last Week (Same Hour)</th>\n",
       "      <th>Trips 2 Weeks Ago (Same Hour)</th>\n",
       "      <th>weekofyear</th>\n",
       "      <th>day</th>\n",
       "      <th>year</th>\n",
       "    </tr>\n",
       "  </thead>\n",
       "  <tbody>\n",
       "    <tr>\n",
       "      <th>0</th>\n",
       "      <td>2017-01-16</td>\n",
       "      <td>1</td>\n",
       "      <td>1</td>\n",
       "      <td>30.0</td>\n",
       "      <td>78.4</td>\n",
       "      <td>130.0</td>\n",
       "      <td>4.0</td>\n",
       "      <td>0.0</td>\n",
       "      <td>U</td>\n",
       "      <td>OVC</td>\n",
       "      <td>...</td>\n",
       "      <td>0</td>\n",
       "      <td>1</td>\n",
       "      <td>32055.00</td>\n",
       "      <td>1485.59</td>\n",
       "      <td>7</td>\n",
       "      <td>4</td>\n",
       "      <td>2</td>\n",
       "      <td>3</td>\n",
       "      <td>16</td>\n",
       "      <td>2017</td>\n",
       "    </tr>\n",
       "    <tr>\n",
       "      <th>1</th>\n",
       "      <td>2017-01-16</td>\n",
       "      <td>2</td>\n",
       "      <td>0</td>\n",
       "      <td>30.0</td>\n",
       "      <td>78.4</td>\n",
       "      <td>130.0</td>\n",
       "      <td>4.0</td>\n",
       "      <td>0.0</td>\n",
       "      <td>U</td>\n",
       "      <td>OVC</td>\n",
       "      <td>...</td>\n",
       "      <td>0</td>\n",
       "      <td>1</td>\n",
       "      <td>36413.10</td>\n",
       "      <td>1224.73</td>\n",
       "      <td>1</td>\n",
       "      <td>3</td>\n",
       "      <td>2</td>\n",
       "      <td>3</td>\n",
       "      <td>16</td>\n",
       "      <td>2017</td>\n",
       "    </tr>\n",
       "    <tr>\n",
       "      <th>2</th>\n",
       "      <td>2017-01-16</td>\n",
       "      <td>3</td>\n",
       "      <td>4</td>\n",
       "      <td>30.0</td>\n",
       "      <td>78.4</td>\n",
       "      <td>130.0</td>\n",
       "      <td>4.0</td>\n",
       "      <td>0.0</td>\n",
       "      <td>U</td>\n",
       "      <td>OVC</td>\n",
       "      <td>...</td>\n",
       "      <td>0</td>\n",
       "      <td>1</td>\n",
       "      <td>65230.40</td>\n",
       "      <td>3568.52</td>\n",
       "      <td>8</td>\n",
       "      <td>3</td>\n",
       "      <td>4</td>\n",
       "      <td>3</td>\n",
       "      <td>16</td>\n",
       "      <td>2017</td>\n",
       "    </tr>\n",
       "    <tr>\n",
       "      <th>3</th>\n",
       "      <td>2017-01-16</td>\n",
       "      <td>4</td>\n",
       "      <td>3</td>\n",
       "      <td>30.0</td>\n",
       "      <td>78.4</td>\n",
       "      <td>130.0</td>\n",
       "      <td>4.0</td>\n",
       "      <td>0.0</td>\n",
       "      <td>U</td>\n",
       "      <td>OVC</td>\n",
       "      <td>...</td>\n",
       "      <td>0</td>\n",
       "      <td>1</td>\n",
       "      <td>46732.45</td>\n",
       "      <td>2536.66</td>\n",
       "      <td>0</td>\n",
       "      <td>5</td>\n",
       "      <td>3</td>\n",
       "      <td>3</td>\n",
       "      <td>16</td>\n",
       "      <td>2017</td>\n",
       "    </tr>\n",
       "    <tr>\n",
       "      <th>4</th>\n",
       "      <td>2017-01-16</td>\n",
       "      <td>5</td>\n",
       "      <td>2</td>\n",
       "      <td>30.0</td>\n",
       "      <td>78.4</td>\n",
       "      <td>130.0</td>\n",
       "      <td>4.0</td>\n",
       "      <td>0.0</td>\n",
       "      <td>U</td>\n",
       "      <td>OVC</td>\n",
       "      <td>...</td>\n",
       "      <td>0</td>\n",
       "      <td>1</td>\n",
       "      <td>33088.75</td>\n",
       "      <td>1832.27</td>\n",
       "      <td>2</td>\n",
       "      <td>1</td>\n",
       "      <td>1</td>\n",
       "      <td>3</td>\n",
       "      <td>16</td>\n",
       "      <td>2017</td>\n",
       "    </tr>\n",
       "  </tbody>\n",
       "</table>\n",
       "<p>5 rows × 22 columns</p>\n",
       "</div>"
      ],
      "text/plain": [
       "  trip_start_timestamp  pickup_community_area  Trips  temperature  \\\n",
       "0           2017-01-16                      1      1         30.0   \n",
       "1           2017-01-16                      2      0         30.0   \n",
       "2           2017-01-16                      3      4         30.0   \n",
       "3           2017-01-16                      4      3         30.0   \n",
       "4           2017-01-16                      5      2         30.0   \n",
       "\n",
       "   relative_humidity  wind_direction  wind_speed  precipitation daytype  \\\n",
       "0               78.4           130.0         4.0            0.0       U   \n",
       "1               78.4           130.0         4.0            0.0       U   \n",
       "2               78.4           130.0         4.0            0.0       U   \n",
       "3               78.4           130.0         4.0            0.0       U   \n",
       "4               78.4           130.0         4.0            0.0       U   \n",
       "\n",
       "  sky_level  ... Hour  Quarter  Fare Last Month  Tips Last Month  \\\n",
       "0       OVC  ...    0        1         32055.00          1485.59   \n",
       "1       OVC  ...    0        1         36413.10          1224.73   \n",
       "2       OVC  ...    0        1         65230.40          3568.52   \n",
       "3       OVC  ...    0        1         46732.45          2536.66   \n",
       "4       OVC  ...    0        1         33088.75          1832.27   \n",
       "\n",
       "   Trips Last Hour  Trips Last Week (Same Hour)  \\\n",
       "0                7                            4   \n",
       "1                1                            3   \n",
       "2                8                            3   \n",
       "3                0                            5   \n",
       "4                2                            1   \n",
       "\n",
       "   Trips 2 Weeks Ago (Same Hour)  weekofyear  day  year  \n",
       "0                              2           3   16  2017  \n",
       "1                              2           3   16  2017  \n",
       "2                              4           3   16  2017  \n",
       "3                              3           3   16  2017  \n",
       "4                              1           3   16  2017  \n",
       "\n",
       "[5 rows x 22 columns]"
      ]
     },
     "execution_count": 120,
     "metadata": {},
     "output_type": "execute_result"
    }
   ],
   "source": [
    "df.head()"
   ]
  },
  {
   "cell_type": "code",
   "execution_count": 121,
   "metadata": {},
   "outputs": [
    {
     "name": "stdout",
     "output_type": "stream",
     "text": [
      "<class 'pandas.core.frame.DataFrame'>\n",
      "RangeIndex: 1920149 entries, 0 to 1920148\n",
      "Data columns (total 22 columns):\n",
      " #   Column                         Dtype         \n",
      "---  ------                         -----         \n",
      " 0   trip_start_timestamp           datetime64[ns]\n",
      " 1   pickup_community_area          int64         \n",
      " 2   Trips                          int64         \n",
      " 3   temperature                    float64       \n",
      " 4   relative_humidity              float64       \n",
      " 5   wind_direction                 float64       \n",
      " 6   wind_speed                     float64       \n",
      " 7   precipitation                  float64       \n",
      " 8   daytype                        object        \n",
      " 9   sky_level                      object        \n",
      " 10  Day Name                       object        \n",
      " 11  Month                          int64         \n",
      " 12  Hour                           int64         \n",
      " 13  Quarter                        int64         \n",
      " 14  Fare Last Month                float64       \n",
      " 15  Tips Last Month                float64       \n",
      " 16  Trips Last Hour                int64         \n",
      " 17  Trips Last Week (Same Hour)    int64         \n",
      " 18  Trips 2 Weeks Ago (Same Hour)  int64         \n",
      " 19  weekofyear                     int64         \n",
      " 20  day                            int64         \n",
      " 21  year                           int64         \n",
      "dtypes: datetime64[ns](1), float64(7), int64(11), object(3)\n",
      "memory usage: 322.3+ MB\n"
     ]
    }
   ],
   "source": [
    "df.info()"
   ]
  },
  {
   "cell_type": "code",
   "execution_count": 122,
   "metadata": {},
   "outputs": [],
   "source": [
    "df.drop(columns=['trip_start_timestamp'],inplace=True)"
   ]
  },
  {
   "cell_type": "code",
   "execution_count": 123,
   "metadata": {},
   "outputs": [],
   "source": [
    "cols = df.columns"
   ]
  },
  {
   "cell_type": "code",
   "execution_count": 124,
   "metadata": {
    "scrolled": true
   },
   "outputs": [],
   "source": [
    "#df['Trips 2 Weeks Ago (Same Hour)'].unique()"
   ]
  },
  {
   "cell_type": "code",
   "execution_count": null,
   "metadata": {},
   "outputs": [],
   "source": []
  },
  {
   "cell_type": "code",
   "execution_count": 125,
   "metadata": {},
   "outputs": [],
   "source": [
    "categorical_cols = ['pickup_community_area','day',\n",
    "            'weekofyear','Quarter','Hour','Month','Day Name','sky_level','daytype']"
   ]
  },
  {
   "cell_type": "code",
   "execution_count": 126,
   "metadata": {},
   "outputs": [
    {
     "data": {
      "text/plain": [
       "Index(['pickup_community_area', 'Trips', 'temperature', 'relative_humidity',\n",
       "       'wind_direction', 'wind_speed', 'precipitation', 'daytype', 'sky_level',\n",
       "       'Day Name', 'Month', 'Hour', 'Quarter', 'Fare Last Month',\n",
       "       'Tips Last Month', 'Trips Last Hour', 'Trips Last Week (Same Hour)',\n",
       "       'Trips 2 Weeks Ago (Same Hour)', 'weekofyear', 'day', 'year'],\n",
       "      dtype='object')"
      ]
     },
     "execution_count": 126,
     "metadata": {},
     "output_type": "execute_result"
    }
   ],
   "source": [
    "cols"
   ]
  },
  {
   "cell_type": "code",
   "execution_count": 127,
   "metadata": {},
   "outputs": [],
   "source": [
    "numerical_cols =['Trips','year' 'temperature', 'relative_humidity','wind_direction','wind_speed','precipitation','Fare Last Month',\n",
    "            'Tips Last Month','Trips Last Hour','Trips Last Week (Same Hour)','Trips 2 Weeks Ago (Same Hour)']"
   ]
  },
  {
   "cell_type": "code",
   "execution_count": 128,
   "metadata": {},
   "outputs": [],
   "source": [
    "df[categorical_cols] = df[categorical_cols].apply(pd.Categorical) "
   ]
  },
  {
   "cell_type": "code",
   "execution_count": 129,
   "metadata": {},
   "outputs": [
    {
     "data": {
      "text/html": [
       "<div>\n",
       "<style scoped>\n",
       "    .dataframe tbody tr th:only-of-type {\n",
       "        vertical-align: middle;\n",
       "    }\n",
       "\n",
       "    .dataframe tbody tr th {\n",
       "        vertical-align: top;\n",
       "    }\n",
       "\n",
       "    .dataframe thead th {\n",
       "        text-align: right;\n",
       "    }\n",
       "</style>\n",
       "<table border=\"1\" class=\"dataframe\">\n",
       "  <thead>\n",
       "    <tr style=\"text-align: right;\">\n",
       "      <th></th>\n",
       "      <th>pickup_community_area</th>\n",
       "      <th>day</th>\n",
       "      <th>weekofyear</th>\n",
       "      <th>Quarter</th>\n",
       "      <th>Hour</th>\n",
       "      <th>Month</th>\n",
       "      <th>Day Name</th>\n",
       "      <th>sky_level</th>\n",
       "      <th>daytype</th>\n",
       "    </tr>\n",
       "  </thead>\n",
       "  <tbody>\n",
       "    <tr>\n",
       "      <th>0</th>\n",
       "      <td>1</td>\n",
       "      <td>16</td>\n",
       "      <td>3</td>\n",
       "      <td>1</td>\n",
       "      <td>0</td>\n",
       "      <td>1</td>\n",
       "      <td>Monday</td>\n",
       "      <td>OVC</td>\n",
       "      <td>U</td>\n",
       "    </tr>\n",
       "    <tr>\n",
       "      <th>1</th>\n",
       "      <td>2</td>\n",
       "      <td>16</td>\n",
       "      <td>3</td>\n",
       "      <td>1</td>\n",
       "      <td>0</td>\n",
       "      <td>1</td>\n",
       "      <td>Monday</td>\n",
       "      <td>OVC</td>\n",
       "      <td>U</td>\n",
       "    </tr>\n",
       "    <tr>\n",
       "      <th>2</th>\n",
       "      <td>3</td>\n",
       "      <td>16</td>\n",
       "      <td>3</td>\n",
       "      <td>1</td>\n",
       "      <td>0</td>\n",
       "      <td>1</td>\n",
       "      <td>Monday</td>\n",
       "      <td>OVC</td>\n",
       "      <td>U</td>\n",
       "    </tr>\n",
       "    <tr>\n",
       "      <th>3</th>\n",
       "      <td>4</td>\n",
       "      <td>16</td>\n",
       "      <td>3</td>\n",
       "      <td>1</td>\n",
       "      <td>0</td>\n",
       "      <td>1</td>\n",
       "      <td>Monday</td>\n",
       "      <td>OVC</td>\n",
       "      <td>U</td>\n",
       "    </tr>\n",
       "    <tr>\n",
       "      <th>4</th>\n",
       "      <td>5</td>\n",
       "      <td>16</td>\n",
       "      <td>3</td>\n",
       "      <td>1</td>\n",
       "      <td>0</td>\n",
       "      <td>1</td>\n",
       "      <td>Monday</td>\n",
       "      <td>OVC</td>\n",
       "      <td>U</td>\n",
       "    </tr>\n",
       "    <tr>\n",
       "      <th>...</th>\n",
       "      <td>...</td>\n",
       "      <td>...</td>\n",
       "      <td>...</td>\n",
       "      <td>...</td>\n",
       "      <td>...</td>\n",
       "      <td>...</td>\n",
       "      <td>...</td>\n",
       "      <td>...</td>\n",
       "      <td>...</td>\n",
       "    </tr>\n",
       "    <tr>\n",
       "      <th>1920144</th>\n",
       "      <td>73</td>\n",
       "      <td>1</td>\n",
       "      <td>48</td>\n",
       "      <td>4</td>\n",
       "      <td>0</td>\n",
       "      <td>12</td>\n",
       "      <td>Sunday</td>\n",
       "      <td>OVC</td>\n",
       "      <td>U</td>\n",
       "    </tr>\n",
       "    <tr>\n",
       "      <th>1920145</th>\n",
       "      <td>74</td>\n",
       "      <td>1</td>\n",
       "      <td>48</td>\n",
       "      <td>4</td>\n",
       "      <td>0</td>\n",
       "      <td>12</td>\n",
       "      <td>Sunday</td>\n",
       "      <td>OVC</td>\n",
       "      <td>U</td>\n",
       "    </tr>\n",
       "    <tr>\n",
       "      <th>1920146</th>\n",
       "      <td>75</td>\n",
       "      <td>1</td>\n",
       "      <td>48</td>\n",
       "      <td>4</td>\n",
       "      <td>0</td>\n",
       "      <td>12</td>\n",
       "      <td>Sunday</td>\n",
       "      <td>OVC</td>\n",
       "      <td>U</td>\n",
       "    </tr>\n",
       "    <tr>\n",
       "      <th>1920147</th>\n",
       "      <td>76</td>\n",
       "      <td>1</td>\n",
       "      <td>48</td>\n",
       "      <td>4</td>\n",
       "      <td>0</td>\n",
       "      <td>12</td>\n",
       "      <td>Sunday</td>\n",
       "      <td>OVC</td>\n",
       "      <td>U</td>\n",
       "    </tr>\n",
       "    <tr>\n",
       "      <th>1920148</th>\n",
       "      <td>77</td>\n",
       "      <td>1</td>\n",
       "      <td>48</td>\n",
       "      <td>4</td>\n",
       "      <td>0</td>\n",
       "      <td>12</td>\n",
       "      <td>Sunday</td>\n",
       "      <td>OVC</td>\n",
       "      <td>U</td>\n",
       "    </tr>\n",
       "  </tbody>\n",
       "</table>\n",
       "<p>1920149 rows × 9 columns</p>\n",
       "</div>"
      ],
      "text/plain": [
       "        pickup_community_area day weekofyear Quarter Hour Month Day Name  \\\n",
       "0                           1  16          3       1    0     1   Monday   \n",
       "1                           2  16          3       1    0     1   Monday   \n",
       "2                           3  16          3       1    0     1   Monday   \n",
       "3                           4  16          3       1    0     1   Monday   \n",
       "4                           5  16          3       1    0     1   Monday   \n",
       "...                       ...  ..        ...     ...  ...   ...      ...   \n",
       "1920144                    73   1         48       4    0    12   Sunday   \n",
       "1920145                    74   1         48       4    0    12   Sunday   \n",
       "1920146                    75   1         48       4    0    12   Sunday   \n",
       "1920147                    76   1         48       4    0    12   Sunday   \n",
       "1920148                    77   1         48       4    0    12   Sunday   \n",
       "\n",
       "        sky_level daytype  \n",
       "0             OVC       U  \n",
       "1             OVC       U  \n",
       "2             OVC       U  \n",
       "3             OVC       U  \n",
       "4             OVC       U  \n",
       "...           ...     ...  \n",
       "1920144       OVC       U  \n",
       "1920145       OVC       U  \n",
       "1920146       OVC       U  \n",
       "1920147       OVC       U  \n",
       "1920148       OVC       U  \n",
       "\n",
       "[1920149 rows x 9 columns]"
      ]
     },
     "execution_count": 129,
     "metadata": {},
     "output_type": "execute_result"
    }
   ],
   "source": [
    "df[categorical_cols]"
   ]
  },
  {
   "cell_type": "code",
   "execution_count": 130,
   "metadata": {},
   "outputs": [
    {
     "data": {
      "text/plain": [
       "0          Monday\n",
       "1          Monday\n",
       "2          Monday\n",
       "3          Monday\n",
       "4          Monday\n",
       "            ...  \n",
       "1920144    Sunday\n",
       "1920145    Sunday\n",
       "1920146    Sunday\n",
       "1920147    Sunday\n",
       "1920148    Sunday\n",
       "Name: Day Name, Length: 1920149, dtype: category\n",
       "Categories (7, object): [Friday, Monday, Saturday, Sunday, Thursday, Tuesday, Wednesday]"
      ]
     },
     "execution_count": 130,
     "metadata": {},
     "output_type": "execute_result"
    }
   ],
   "source": [
    "df['Day Name']"
   ]
  },
  {
   "cell_type": "code",
   "execution_count": 131,
   "metadata": {},
   "outputs": [],
   "source": [
    "#df['Day Name'].unique()"
   ]
  },
  {
   "cell_type": "code",
   "execution_count": 132,
   "metadata": {},
   "outputs": [],
   "source": [
    "#df['Day Name'] = df['Day Name'].map({'Monday':0, 'Tuesday':0, 'Wednesday':0, 'Thursday':0, 'Friday': 0, 'Saturday':1, 'Sunday': 1})"
   ]
  },
  {
   "cell_type": "code",
   "execution_count": 133,
   "metadata": {},
   "outputs": [],
   "source": [
    "# ASOS Measured Human ASOS\n",
    "#Amount in % Equivalent Report\n",
    "# of sky cover in oktas\n",
    "# 00 to < 05 0 CLR\n",
    "# > 05 to < 25 > 0 to 2/8 FEW\n",
    "# > 25 to < 50 > 2/8 to < 4/8 SCT\n",
    "#> 50 to < 87 > 4/8 to < 8/8 BKN\n",
    "# > 87 to 100 8/8 OVC"
   ]
  },
  {
   "cell_type": "code",
   "execution_count": 134,
   "metadata": {},
   "outputs": [
    {
     "data": {
      "text/plain": [
       "[OVC, BKN, SCT, FEW, CLR, VV]\n",
       "Categories (6, object): [OVC, BKN, SCT, FEW, CLR, VV]"
      ]
     },
     "execution_count": 134,
     "metadata": {},
     "output_type": "execute_result"
    }
   ],
   "source": [
    "df['sky_level'].unique() "
   ]
  },
  {
   "cell_type": "code",
   "execution_count": null,
   "metadata": {},
   "outputs": [],
   "source": []
  },
  {
   "cell_type": "code",
   "execution_count": 135,
   "metadata": {},
   "outputs": [],
   "source": [
    "df['sky_level']=df['sky_level'].map({'CLR':0, 'FEW':1, 'SCT':2, 'BKN':3, 'OVC': 4})"
   ]
  },
  {
   "cell_type": "markdown",
   "metadata": {},
   "source": [
    "### We should delete the day name"
   ]
  },
  {
   "cell_type": "code",
   "execution_count": 136,
   "metadata": {},
   "outputs": [],
   "source": [
    "#df['daytype'] = df['daytype'].map({'U':1, 'W':0, 'A':1})"
   ]
  },
  {
   "cell_type": "code",
   "execution_count": 137,
   "metadata": {},
   "outputs": [
    {
     "data": {
      "text/plain": [
       "0          4.0\n",
       "1          4.0\n",
       "2          4.0\n",
       "3          4.0\n",
       "4          4.0\n",
       "          ... \n",
       "1920144    4.0\n",
       "1920145    4.0\n",
       "1920146    4.0\n",
       "1920147    4.0\n",
       "1920148    4.0\n",
       "Name: sky_level, Length: 1920149, dtype: float64"
      ]
     },
     "execution_count": 137,
     "metadata": {},
     "output_type": "execute_result"
    }
   ],
   "source": [
    "df['sky_level']"
   ]
  },
  {
   "cell_type": "code",
   "execution_count": 138,
   "metadata": {},
   "outputs": [
    {
     "name": "stdout",
     "output_type": "stream",
     "text": [
      "<class 'pandas.core.frame.DataFrame'>\n",
      "RangeIndex: 1920149 entries, 0 to 1920148\n",
      "Data columns (total 21 columns):\n",
      " #   Column                         Dtype   \n",
      "---  ------                         -----   \n",
      " 0   pickup_community_area          category\n",
      " 1   Trips                          int64   \n",
      " 2   temperature                    float64 \n",
      " 3   relative_humidity              float64 \n",
      " 4   wind_direction                 float64 \n",
      " 5   wind_speed                     float64 \n",
      " 6   precipitation                  float64 \n",
      " 7   daytype                        category\n",
      " 8   sky_level                      float64 \n",
      " 9   Day Name                       category\n",
      " 10  Month                          category\n",
      " 11  Hour                           category\n",
      " 12  Quarter                        category\n",
      " 13  Fare Last Month                float64 \n",
      " 14  Tips Last Month                float64 \n",
      " 15  Trips Last Hour                int64   \n",
      " 16  Trips Last Week (Same Hour)    int64   \n",
      " 17  Trips 2 Weeks Ago (Same Hour)  int64   \n",
      " 18  weekofyear                     category\n",
      " 19  day                            category\n",
      " 20  year                           int64   \n",
      "dtypes: category(8), float64(8), int64(5)\n",
      "memory usage: 205.1 MB\n"
     ]
    }
   ],
   "source": [
    "df.info()"
   ]
  },
  {
   "cell_type": "code",
   "execution_count": 139,
   "metadata": {},
   "outputs": [
    {
     "data": {
      "text/html": [
       "<div>\n",
       "<style scoped>\n",
       "    .dataframe tbody tr th:only-of-type {\n",
       "        vertical-align: middle;\n",
       "    }\n",
       "\n",
       "    .dataframe tbody tr th {\n",
       "        vertical-align: top;\n",
       "    }\n",
       "\n",
       "    .dataframe thead th {\n",
       "        text-align: right;\n",
       "    }\n",
       "</style>\n",
       "<table border=\"1\" class=\"dataframe\">\n",
       "  <thead>\n",
       "    <tr style=\"text-align: right;\">\n",
       "      <th></th>\n",
       "      <th>pickup_community_area</th>\n",
       "      <th>Trips</th>\n",
       "      <th>temperature</th>\n",
       "      <th>relative_humidity</th>\n",
       "      <th>wind_direction</th>\n",
       "      <th>wind_speed</th>\n",
       "      <th>precipitation</th>\n",
       "      <th>daytype</th>\n",
       "      <th>sky_level</th>\n",
       "      <th>Day Name</th>\n",
       "      <th>...</th>\n",
       "      <th>Hour</th>\n",
       "      <th>Quarter</th>\n",
       "      <th>Fare Last Month</th>\n",
       "      <th>Tips Last Month</th>\n",
       "      <th>Trips Last Hour</th>\n",
       "      <th>Trips Last Week (Same Hour)</th>\n",
       "      <th>Trips 2 Weeks Ago (Same Hour)</th>\n",
       "      <th>weekofyear</th>\n",
       "      <th>day</th>\n",
       "      <th>year</th>\n",
       "    </tr>\n",
       "  </thead>\n",
       "  <tbody>\n",
       "    <tr>\n",
       "      <th>0</th>\n",
       "      <td>1</td>\n",
       "      <td>1</td>\n",
       "      <td>30.0</td>\n",
       "      <td>78.40</td>\n",
       "      <td>130.0</td>\n",
       "      <td>4.0</td>\n",
       "      <td>0.00</td>\n",
       "      <td>U</td>\n",
       "      <td>4.0</td>\n",
       "      <td>Monday</td>\n",
       "      <td>...</td>\n",
       "      <td>0</td>\n",
       "      <td>1</td>\n",
       "      <td>32055.00</td>\n",
       "      <td>1485.59</td>\n",
       "      <td>7</td>\n",
       "      <td>4</td>\n",
       "      <td>2</td>\n",
       "      <td>3</td>\n",
       "      <td>16</td>\n",
       "      <td>2017</td>\n",
       "    </tr>\n",
       "    <tr>\n",
       "      <th>1</th>\n",
       "      <td>2</td>\n",
       "      <td>0</td>\n",
       "      <td>30.0</td>\n",
       "      <td>78.40</td>\n",
       "      <td>130.0</td>\n",
       "      <td>4.0</td>\n",
       "      <td>0.00</td>\n",
       "      <td>U</td>\n",
       "      <td>4.0</td>\n",
       "      <td>Monday</td>\n",
       "      <td>...</td>\n",
       "      <td>0</td>\n",
       "      <td>1</td>\n",
       "      <td>36413.10</td>\n",
       "      <td>1224.73</td>\n",
       "      <td>1</td>\n",
       "      <td>3</td>\n",
       "      <td>2</td>\n",
       "      <td>3</td>\n",
       "      <td>16</td>\n",
       "      <td>2017</td>\n",
       "    </tr>\n",
       "    <tr>\n",
       "      <th>2</th>\n",
       "      <td>3</td>\n",
       "      <td>4</td>\n",
       "      <td>30.0</td>\n",
       "      <td>78.40</td>\n",
       "      <td>130.0</td>\n",
       "      <td>4.0</td>\n",
       "      <td>0.00</td>\n",
       "      <td>U</td>\n",
       "      <td>4.0</td>\n",
       "      <td>Monday</td>\n",
       "      <td>...</td>\n",
       "      <td>0</td>\n",
       "      <td>1</td>\n",
       "      <td>65230.40</td>\n",
       "      <td>3568.52</td>\n",
       "      <td>8</td>\n",
       "      <td>3</td>\n",
       "      <td>4</td>\n",
       "      <td>3</td>\n",
       "      <td>16</td>\n",
       "      <td>2017</td>\n",
       "    </tr>\n",
       "    <tr>\n",
       "      <th>3</th>\n",
       "      <td>4</td>\n",
       "      <td>3</td>\n",
       "      <td>30.0</td>\n",
       "      <td>78.40</td>\n",
       "      <td>130.0</td>\n",
       "      <td>4.0</td>\n",
       "      <td>0.00</td>\n",
       "      <td>U</td>\n",
       "      <td>4.0</td>\n",
       "      <td>Monday</td>\n",
       "      <td>...</td>\n",
       "      <td>0</td>\n",
       "      <td>1</td>\n",
       "      <td>46732.45</td>\n",
       "      <td>2536.66</td>\n",
       "      <td>0</td>\n",
       "      <td>5</td>\n",
       "      <td>3</td>\n",
       "      <td>3</td>\n",
       "      <td>16</td>\n",
       "      <td>2017</td>\n",
       "    </tr>\n",
       "    <tr>\n",
       "      <th>4</th>\n",
       "      <td>5</td>\n",
       "      <td>2</td>\n",
       "      <td>30.0</td>\n",
       "      <td>78.40</td>\n",
       "      <td>130.0</td>\n",
       "      <td>4.0</td>\n",
       "      <td>0.00</td>\n",
       "      <td>U</td>\n",
       "      <td>4.0</td>\n",
       "      <td>Monday</td>\n",
       "      <td>...</td>\n",
       "      <td>0</td>\n",
       "      <td>1</td>\n",
       "      <td>33088.75</td>\n",
       "      <td>1832.27</td>\n",
       "      <td>2</td>\n",
       "      <td>1</td>\n",
       "      <td>1</td>\n",
       "      <td>3</td>\n",
       "      <td>16</td>\n",
       "      <td>2017</td>\n",
       "    </tr>\n",
       "    <tr>\n",
       "      <th>...</th>\n",
       "      <td>...</td>\n",
       "      <td>...</td>\n",
       "      <td>...</td>\n",
       "      <td>...</td>\n",
       "      <td>...</td>\n",
       "      <td>...</td>\n",
       "      <td>...</td>\n",
       "      <td>...</td>\n",
       "      <td>...</td>\n",
       "      <td>...</td>\n",
       "      <td>...</td>\n",
       "      <td>...</td>\n",
       "      <td>...</td>\n",
       "      <td>...</td>\n",
       "      <td>...</td>\n",
       "      <td>...</td>\n",
       "      <td>...</td>\n",
       "      <td>...</td>\n",
       "      <td>...</td>\n",
       "      <td>...</td>\n",
       "      <td>...</td>\n",
       "    </tr>\n",
       "    <tr>\n",
       "      <th>1920144</th>\n",
       "      <td>73</td>\n",
       "      <td>0</td>\n",
       "      <td>39.9</td>\n",
       "      <td>96.55</td>\n",
       "      <td>140.0</td>\n",
       "      <td>7.0</td>\n",
       "      <td>1.78</td>\n",
       "      <td>U</td>\n",
       "      <td>4.0</td>\n",
       "      <td>Sunday</td>\n",
       "      <td>...</td>\n",
       "      <td>0</td>\n",
       "      <td>4</td>\n",
       "      <td>0.00</td>\n",
       "      <td>0.00</td>\n",
       "      <td>0</td>\n",
       "      <td>0</td>\n",
       "      <td>0</td>\n",
       "      <td>48</td>\n",
       "      <td>1</td>\n",
       "      <td>2019</td>\n",
       "    </tr>\n",
       "    <tr>\n",
       "      <th>1920145</th>\n",
       "      <td>74</td>\n",
       "      <td>0</td>\n",
       "      <td>39.9</td>\n",
       "      <td>96.55</td>\n",
       "      <td>140.0</td>\n",
       "      <td>7.0</td>\n",
       "      <td>1.78</td>\n",
       "      <td>U</td>\n",
       "      <td>4.0</td>\n",
       "      <td>Sunday</td>\n",
       "      <td>...</td>\n",
       "      <td>0</td>\n",
       "      <td>4</td>\n",
       "      <td>0.00</td>\n",
       "      <td>0.00</td>\n",
       "      <td>0</td>\n",
       "      <td>0</td>\n",
       "      <td>0</td>\n",
       "      <td>48</td>\n",
       "      <td>1</td>\n",
       "      <td>2019</td>\n",
       "    </tr>\n",
       "    <tr>\n",
       "      <th>1920146</th>\n",
       "      <td>75</td>\n",
       "      <td>0</td>\n",
       "      <td>39.9</td>\n",
       "      <td>96.55</td>\n",
       "      <td>140.0</td>\n",
       "      <td>7.0</td>\n",
       "      <td>1.78</td>\n",
       "      <td>U</td>\n",
       "      <td>4.0</td>\n",
       "      <td>Sunday</td>\n",
       "      <td>...</td>\n",
       "      <td>0</td>\n",
       "      <td>4</td>\n",
       "      <td>0.00</td>\n",
       "      <td>0.00</td>\n",
       "      <td>0</td>\n",
       "      <td>0</td>\n",
       "      <td>0</td>\n",
       "      <td>48</td>\n",
       "      <td>1</td>\n",
       "      <td>2019</td>\n",
       "    </tr>\n",
       "    <tr>\n",
       "      <th>1920147</th>\n",
       "      <td>76</td>\n",
       "      <td>16</td>\n",
       "      <td>39.9</td>\n",
       "      <td>96.55</td>\n",
       "      <td>140.0</td>\n",
       "      <td>7.0</td>\n",
       "      <td>1.78</td>\n",
       "      <td>U</td>\n",
       "      <td>4.0</td>\n",
       "      <td>Sunday</td>\n",
       "      <td>...</td>\n",
       "      <td>0</td>\n",
       "      <td>4</td>\n",
       "      <td>628.25</td>\n",
       "      <td>55.63</td>\n",
       "      <td>54</td>\n",
       "      <td>3</td>\n",
       "      <td>6</td>\n",
       "      <td>48</td>\n",
       "      <td>1</td>\n",
       "      <td>2019</td>\n",
       "    </tr>\n",
       "    <tr>\n",
       "      <th>1920148</th>\n",
       "      <td>77</td>\n",
       "      <td>0</td>\n",
       "      <td>39.9</td>\n",
       "      <td>96.55</td>\n",
       "      <td>140.0</td>\n",
       "      <td>7.0</td>\n",
       "      <td>1.78</td>\n",
       "      <td>U</td>\n",
       "      <td>4.0</td>\n",
       "      <td>Sunday</td>\n",
       "      <td>...</td>\n",
       "      <td>0</td>\n",
       "      <td>4</td>\n",
       "      <td>0.00</td>\n",
       "      <td>0.00</td>\n",
       "      <td>3</td>\n",
       "      <td>3</td>\n",
       "      <td>1</td>\n",
       "      <td>48</td>\n",
       "      <td>1</td>\n",
       "      <td>2019</td>\n",
       "    </tr>\n",
       "  </tbody>\n",
       "</table>\n",
       "<p>1920149 rows × 21 columns</p>\n",
       "</div>"
      ],
      "text/plain": [
       "        pickup_community_area  Trips  temperature  relative_humidity  \\\n",
       "0                           1      1         30.0              78.40   \n",
       "1                           2      0         30.0              78.40   \n",
       "2                           3      4         30.0              78.40   \n",
       "3                           4      3         30.0              78.40   \n",
       "4                           5      2         30.0              78.40   \n",
       "...                       ...    ...          ...                ...   \n",
       "1920144                    73      0         39.9              96.55   \n",
       "1920145                    74      0         39.9              96.55   \n",
       "1920146                    75      0         39.9              96.55   \n",
       "1920147                    76     16         39.9              96.55   \n",
       "1920148                    77      0         39.9              96.55   \n",
       "\n",
       "         wind_direction  wind_speed  precipitation daytype  sky_level  \\\n",
       "0                 130.0         4.0           0.00       U        4.0   \n",
       "1                 130.0         4.0           0.00       U        4.0   \n",
       "2                 130.0         4.0           0.00       U        4.0   \n",
       "3                 130.0         4.0           0.00       U        4.0   \n",
       "4                 130.0         4.0           0.00       U        4.0   \n",
       "...                 ...         ...            ...     ...        ...   \n",
       "1920144           140.0         7.0           1.78       U        4.0   \n",
       "1920145           140.0         7.0           1.78       U        4.0   \n",
       "1920146           140.0         7.0           1.78       U        4.0   \n",
       "1920147           140.0         7.0           1.78       U        4.0   \n",
       "1920148           140.0         7.0           1.78       U        4.0   \n",
       "\n",
       "        Day Name  ... Hour Quarter Fare Last Month  Tips Last Month  \\\n",
       "0         Monday  ...    0       1        32055.00          1485.59   \n",
       "1         Monday  ...    0       1        36413.10          1224.73   \n",
       "2         Monday  ...    0       1        65230.40          3568.52   \n",
       "3         Monday  ...    0       1        46732.45          2536.66   \n",
       "4         Monday  ...    0       1        33088.75          1832.27   \n",
       "...          ...  ...  ...     ...             ...              ...   \n",
       "1920144   Sunday  ...    0       4            0.00             0.00   \n",
       "1920145   Sunday  ...    0       4            0.00             0.00   \n",
       "1920146   Sunday  ...    0       4            0.00             0.00   \n",
       "1920147   Sunday  ...    0       4          628.25            55.63   \n",
       "1920148   Sunday  ...    0       4            0.00             0.00   \n",
       "\n",
       "         Trips Last Hour  Trips Last Week (Same Hour)  \\\n",
       "0                      7                            4   \n",
       "1                      1                            3   \n",
       "2                      8                            3   \n",
       "3                      0                            5   \n",
       "4                      2                            1   \n",
       "...                  ...                          ...   \n",
       "1920144                0                            0   \n",
       "1920145                0                            0   \n",
       "1920146                0                            0   \n",
       "1920147               54                            3   \n",
       "1920148                3                            3   \n",
       "\n",
       "         Trips 2 Weeks Ago (Same Hour)  weekofyear day  year  \n",
       "0                                    2           3  16  2017  \n",
       "1                                    2           3  16  2017  \n",
       "2                                    4           3  16  2017  \n",
       "3                                    3           3  16  2017  \n",
       "4                                    1           3  16  2017  \n",
       "...                                ...         ...  ..   ...  \n",
       "1920144                              0          48   1  2019  \n",
       "1920145                              0          48   1  2019  \n",
       "1920146                              0          48   1  2019  \n",
       "1920147                              6          48   1  2019  \n",
       "1920148                              1          48   1  2019  \n",
       "\n",
       "[1920149 rows x 21 columns]"
      ]
     },
     "execution_count": 139,
     "metadata": {},
     "output_type": "execute_result"
    }
   ],
   "source": [
    "df"
   ]
  },
  {
   "cell_type": "code",
   "execution_count": 141,
   "metadata": {},
   "outputs": [],
   "source": [
    "df=pd.get_dummies(df, columns=['pickup_community_area','day','weekofyear','Quarter','Hour','Month','Day Name','daytype'],drop_first=True)"
   ]
  },
  {
   "cell_type": "code",
   "execution_count": 142,
   "metadata": {},
   "outputs": [],
   "source": [
    "float64=['sky_level','Fare Last Month','Tips Last Month','temperature','relative_humidity','wind_direction','wind_speed','precipitation']"
   ]
  },
  {
   "cell_type": "code",
   "execution_count": 143,
   "metadata": {},
   "outputs": [],
   "source": [
    "df[float64]=df[float64].astype('float32')"
   ]
  },
  {
   "cell_type": "code",
   "execution_count": 144,
   "metadata": {},
   "outputs": [
    {
     "name": "stdout",
     "output_type": "stream",
     "text": [
      "<class 'pandas.core.frame.DataFrame'>\n",
      "RangeIndex: 1920149 entries, 0 to 1920148\n",
      "Columns: 215 entries, Trips to daytype_W\n",
      "dtypes: float32(8), int64(5), uint8(202)\n",
      "memory usage: 501.7 MB\n"
     ]
    }
   ],
   "source": [
    "df.info()"
   ]
  },
  {
   "cell_type": "code",
   "execution_count": 145,
   "metadata": {},
   "outputs": [],
   "source": [
    "df.fillna(df.median(),inplace=True)"
   ]
  },
  {
   "cell_type": "code",
   "execution_count": 146,
   "metadata": {},
   "outputs": [],
   "source": [
    "#y2=df['Trips'].iloc[:77]"
   ]
  },
  {
   "cell_type": "code",
   "execution_count": 441,
   "metadata": {},
   "outputs": [
    {
     "data": {
      "text/plain": [
       "77"
      ]
     },
     "execution_count": 441,
     "metadata": {},
     "output_type": "execute_result"
    }
   ],
   "source": [
    "#len(y2)"
   ]
  },
  {
   "cell_type": "code",
   "execution_count": 442,
   "metadata": {},
   "outputs": [],
   "source": [
    "#x2=df.drop(columns='Trips',axis=1)"
   ]
  },
  {
   "cell_type": "code",
   "execution_count": 443,
   "metadata": {},
   "outputs": [],
   "source": [
    "#x2=x2.iloc[:77]"
   ]
  },
  {
   "cell_type": "code",
   "execution_count": 147,
   "metadata": {},
   "outputs": [],
   "source": [
    "y=df[['Trips']]"
   ]
  },
  {
   "cell_type": "code",
   "execution_count": 148,
   "metadata": {},
   "outputs": [],
   "source": [
    "x=df.drop(columns='Trips',axis=1)"
   ]
  },
  {
   "cell_type": "code",
   "execution_count": null,
   "metadata": {},
   "outputs": [],
   "source": []
  },
  {
   "cell_type": "code",
   "execution_count": 149,
   "metadata": {},
   "outputs": [],
   "source": [
    "feature_list = list(x.columns)"
   ]
  },
  {
   "cell_type": "code",
   "execution_count": 151,
   "metadata": {},
   "outputs": [],
   "source": [
    "#feature_list"
   ]
  },
  {
   "cell_type": "code",
   "execution_count": 152,
   "metadata": {},
   "outputs": [],
   "source": [
    "from sklearn.model_selection import train_test_split"
   ]
  },
  {
   "cell_type": "code",
   "execution_count": 153,
   "metadata": {},
   "outputs": [],
   "source": [
    "train_features, test_features, train_labels, test_labels = train_test_split(x, y, test_size = 0.25, random_state = 42)"
   ]
  },
  {
   "cell_type": "code",
   "execution_count": 154,
   "metadata": {},
   "outputs": [
    {
     "data": {
      "text/plain": [
       "(1440111, 214)"
      ]
     },
     "execution_count": 154,
     "metadata": {},
     "output_type": "execute_result"
    }
   ],
   "source": [
    "train_features.shape"
   ]
  },
  {
   "cell_type": "code",
   "execution_count": 155,
   "metadata": {},
   "outputs": [
    {
     "name": "stdout",
     "output_type": "stream",
     "text": [
      "Training Features Shape: (1440111, 214)\n",
      "Training Labels Shape: (1440111, 1)\n",
      "Testing Features Shape: (480038, 214)\n",
      "Testing Labels Shape: (480038, 1)\n"
     ]
    }
   ],
   "source": [
    "print('Training Features Shape:', train_features.shape)\n",
    "print('Training Labels Shape:', train_labels.shape)\n",
    "print('Testing Features Shape:', test_features.shape)\n",
    "print('Testing Labels Shape:', test_labels.shape)\n"
   ]
  },
  {
   "cell_type": "code",
   "execution_count": 49,
   "metadata": {},
   "outputs": [],
   "source": [
    "from sklearn.ensemble import RandomForestRegressor"
   ]
  },
  {
   "cell_type": "code",
   "execution_count": 51,
   "metadata": {},
   "outputs": [],
   "source": [
    "# Instantiate model with 1000 decision trees\n",
    "rf = RandomForestRegressor(n_estimators = 100, random_state = 42,min_samples_leaf=3,oob_score=True,n_jobs=-1,max_features=0.5,verbose=4)"
   ]
  },
  {
   "cell_type": "code",
   "execution_count": 52,
   "metadata": {},
   "outputs": [
    {
     "name": "stderr",
     "output_type": "stream",
     "text": [
      "[Parallel(n_jobs=-1)]: Using backend ThreadingBackend with 20 concurrent workers.\n"
     ]
    },
    {
     "name": "stdout",
     "output_type": "stream",
     "text": [
      "building tree 1 of 100\n",
      "building tree 2 of 100\n",
      "building tree 3 of 100\n",
      "building tree 4 of 100building tree 5 of 100\n",
      "building tree 6 of 100\n",
      "building tree 7 of 100\n",
      "building tree 8 of 100\n",
      "building tree 9 of 100\n",
      "\n",
      "building tree 10 of 100\n",
      "building tree 11 of 100\n",
      "building tree 12 of 100\n",
      "building tree 13 of 100\n",
      "building tree 14 of 100\n",
      "building tree 15 of 100\n",
      "building tree 16 of 100\n",
      "building tree 17 of 100\n",
      "building tree 18 of 100building tree 19 of 100building tree 20 of 100\n",
      "\n",
      "\n",
      "building tree 21 of 100\n",
      "building tree 22 of 100\n",
      "building tree 23 of 100\n",
      "building tree 24 of 100\n",
      "building tree 25 of 100\n",
      "building tree 26 of 100\n",
      "building tree 27 of 100\n",
      "building tree 28 of 100\n",
      "building tree 29 of 100\n",
      "building tree 30 of 100\n",
      "building tree 31 of 100\n",
      "building tree 32 of 100\n",
      "building tree 33 of 100\n",
      "building tree 34 of 100\n",
      "building tree 35 of 100\n",
      "building tree 36 of 100\n",
      "building tree 37 of 100\n",
      "building tree 38 of 100\n",
      "building tree 39 of 100\n",
      "building tree 40 of 100\n",
      "building tree 41 of 100\n",
      "building tree 42 of 100\n",
      "building tree 43 of 100\n",
      "building tree 44 of 100\n",
      "building tree 45 of 100\n",
      "building tree 46 of 100\n",
      "building tree 47 of 100\n",
      "building tree 48 of 100\n",
      "building tree 49 of 100building tree 50 of 100\n",
      "\n",
      "building tree 51 of 100\n",
      "building tree 52 of 100\n",
      "building tree 53 of 100\n",
      "building tree 54 of 100\n",
      "building tree 55 of 100\n",
      "building tree 56 of 100\n",
      "building tree 57 of 100\n",
      "building tree 58 of 100\n",
      "building tree 59 of 100\n",
      "building tree 60 of 100\n",
      "building tree 61 of 100\n",
      "building tree 62 of 100\n",
      "building tree 63 of 100\n",
      "building tree 64 of 100\n",
      "building tree 65 of 100\n",
      "building tree 66 of 100\n",
      "building tree 67 of 100\n",
      "building tree 68 of 100\n",
      "building tree 69 of 100\n",
      "building tree 70 of 100\n",
      "building tree 71 of 100\n",
      "building tree 72 of 100\n",
      "building tree 73 of 100\n",
      "building tree 74 of 100\n",
      "building tree 75 of 100\n",
      "building tree 76 of 100\n",
      "building tree 77 of 100\n",
      "building tree 78 of 100\n"
     ]
    },
    {
     "name": "stderr",
     "output_type": "stream",
     "text": [
      "[Parallel(n_jobs=-1)]: Done  58 tasks      | elapsed:  4.9min\n"
     ]
    },
    {
     "name": "stdout",
     "output_type": "stream",
     "text": [
      "building tree 79 of 100\n",
      "building tree 80 of 100\n",
      "building tree 81 of 100\n",
      "building tree 82 of 100\n",
      "building tree 83 of 100\n",
      "building tree 84 of 100\n",
      "building tree 85 of 100\n",
      "building tree 86 of 100\n",
      "building tree 87 of 100\n",
      "building tree 88 of 100\n",
      "building tree 89 of 100\n",
      "building tree 90 of 100\n",
      "building tree 91 of 100\n",
      "building tree 92 of 100\n",
      "building tree 93 of 100\n",
      "building tree 94 of 100\n",
      "building tree 95 of 100\n",
      "building tree 96 of 100\n",
      "building tree 97 of 100\n",
      "building tree 98 of 100\n",
      "building tree 99 of 100\n",
      "building tree 100 of 100\n"
     ]
    },
    {
     "name": "stderr",
     "output_type": "stream",
     "text": [
      "[Parallel(n_jobs=-1)]: Done  87 out of 100 | elapsed:  7.9min remaining:  1.2min\n",
      "[Parallel(n_jobs=-1)]: Done 100 out of 100 | elapsed:  8.0min finished\n"
     ]
    }
   ],
   "source": [
    "rf.fit(train_features, train_labels);"
   ]
  },
  {
   "cell_type": "code",
   "execution_count": 53,
   "metadata": {},
   "outputs": [
    {
     "name": "stderr",
     "output_type": "stream",
     "text": [
      "[Parallel(n_jobs=20)]: Using backend ThreadingBackend with 20 concurrent workers.\n",
      "[Parallel(n_jobs=20)]: Done  58 tasks      | elapsed:    4.2s\n",
      "[Parallel(n_jobs=20)]: Done  87 out of 100 | elapsed:    6.7s remaining:    0.9s\n",
      "[Parallel(n_jobs=20)]: Done 100 out of 100 | elapsed:    7.0s finished\n"
     ]
    }
   ],
   "source": [
    "predict=rf.predict(train_features)"
   ]
  },
  {
   "cell_type": "code",
   "execution_count": 158,
   "metadata": {},
   "outputs": [
    {
     "name": "stderr",
     "output_type": "stream",
     "text": [
      "C:\\Users\\Iconsense\\Anaconda3\\envs\\abhishek\\lib\\site-packages\\sklearn\\externals\\joblib\\__init__.py:15: FutureWarning: sklearn.externals.joblib is deprecated in 0.21 and will be removed in 0.23. Please import this functionality directly from joblib, which can be installed with: pip install joblib. If this warning is raised when loading pickled models, you may need to re-serialize those models with scikit-learn 0.21+.\n",
      "  warnings.warn(msg, category=FutureWarning)\n"
     ]
    }
   ],
   "source": [
    "from sklearn.externals import joblib "
   ]
  },
  {
   "cell_type": "code",
   "execution_count": null,
   "metadata": {},
   "outputs": [],
   "source": []
  },
  {
   "cell_type": "code",
   "execution_count": 508,
   "metadata": {},
   "outputs": [
    {
     "data": {
      "text/plain": [
       "['filename.pkl']"
      ]
     },
     "execution_count": 508,
     "metadata": {},
     "output_type": "execute_result"
    }
   ],
   "source": [
    "joblib.dump(rf, 'filename.pkl') "
   ]
  },
  {
   "cell_type": "code",
   "execution_count": 159,
   "metadata": {},
   "outputs": [],
   "source": [
    "# Load the model from the file \n",
    "rf = joblib.load('filename.pkl')  \n",
    "  \n"
   ]
  },
  {
   "cell_type": "code",
   "execution_count": 160,
   "metadata": {},
   "outputs": [
    {
     "name": "stderr",
     "output_type": "stream",
     "text": [
      "[Parallel(n_jobs=20)]: Using backend ThreadingBackend with 20 concurrent workers.\n",
      "[Parallel(n_jobs=20)]: Done  58 tasks      | elapsed:   11.6s\n",
      "[Parallel(n_jobs=20)]: Done  87 out of 100 | elapsed:   19.9s remaining:    2.9s\n",
      "[Parallel(n_jobs=20)]: Done 100 out of 100 | elapsed:   20.4s finished\n"
     ]
    },
    {
     "data": {
      "text/plain": [
       "array([  3.66868038,   0.79859235,  29.17531457, ...,   3.11959993,\n",
       "         0.54333369, 169.57867496])"
      ]
     },
     "execution_count": 160,
     "metadata": {},
     "output_type": "execute_result"
    }
   ],
   "source": [
    "# Use the loaded model to make predictions \n",
    "rf.predict(test_features) "
   ]
  },
  {
   "cell_type": "code",
   "execution_count": 59,
   "metadata": {},
   "outputs": [],
   "source": [
    "def rmse(x,y): return math.sqrt(((x-y)**2).mean())"
   ]
  },
  {
   "cell_type": "code",
   "execution_count": 62,
   "metadata": {},
   "outputs": [
    {
     "data": {
      "text/plain": [
       "1.8919214929897703"
      ]
     },
     "execution_count": 62,
     "metadata": {},
     "output_type": "execute_result"
    }
   ],
   "source": [
    "rmse(predict, train_labels)"
   ]
  },
  {
   "cell_type": "code",
   "execution_count": 63,
   "metadata": {},
   "outputs": [
    {
     "name": "stderr",
     "output_type": "stream",
     "text": [
      "[Parallel(n_jobs=20)]: Using backend ThreadingBackend with 20 concurrent workers.\n",
      "[Parallel(n_jobs=20)]: Done  58 tasks      | elapsed:    4.1s\n",
      "[Parallel(n_jobs=20)]: Done  87 out of 100 | elapsed:    6.7s remaining:    0.9s\n",
      "[Parallel(n_jobs=20)]: Done 100 out of 100 | elapsed:    7.0s finished\n"
     ]
    },
    {
     "data": {
      "text/plain": [
       "0.9863423363797417"
      ]
     },
     "execution_count": 63,
     "metadata": {},
     "output_type": "execute_result"
    }
   ],
   "source": [
    "rf.score(train_features,train_labels)"
   ]
  },
  {
   "cell_type": "code",
   "execution_count": 161,
   "metadata": {},
   "outputs": [
    {
     "name": "stderr",
     "output_type": "stream",
     "text": [
      "[Parallel(n_jobs=20)]: Using backend ThreadingBackend with 20 concurrent workers.\n",
      "[Parallel(n_jobs=20)]: Done  58 tasks      | elapsed:   10.5s\n",
      "[Parallel(n_jobs=20)]: Done  87 out of 100 | elapsed:   20.3s remaining:    2.9s\n",
      "[Parallel(n_jobs=20)]: Done 100 out of 100 | elapsed:   20.3s finished\n"
     ]
    },
    {
     "data": {
      "text/plain": [
       "0.9586083320054862"
      ]
     },
     "execution_count": 161,
     "metadata": {},
     "output_type": "execute_result"
    }
   ],
   "source": [
    "rf.score(test_features,test_labels)"
   ]
  },
  {
   "cell_type": "code",
   "execution_count": null,
   "metadata": {},
   "outputs": [],
   "source": []
  }
 ],
 "metadata": {
  "kernelspec": {
   "display_name": "Python 3",
   "language": "python",
   "name": "python3"
  },
  "language_info": {
   "codemirror_mode": {
    "name": "ipython",
    "version": 3
   },
   "file_extension": ".py",
   "mimetype": "text/x-python",
   "name": "python",
   "nbconvert_exporter": "python",
   "pygments_lexer": "ipython3",
   "version": "3.7.4"
  }
 },
 "nbformat": 4,
 "nbformat_minor": 2
}
