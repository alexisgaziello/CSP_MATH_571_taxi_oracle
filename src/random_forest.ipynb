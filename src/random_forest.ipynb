{
 "cells": [
  {
   "cell_type": "code",
   "execution_count": 204,
   "metadata": {},
   "outputs": [],
   "source": [
    "import numpy as np"
   ]
  },
  {
   "cell_type": "code",
   "execution_count": 205,
   "metadata": {},
   "outputs": [
    {
     "name": "stdout",
     "output_type": "stream",
     "text": [
      "C:\\Users\\Iconsense\\abhishek\\taxi\n"
     ]
    }
   ],
   "source": [
    "cd \"C:/Users/Iconsense/abhishek/taxi\""
   ]
  },
  {
   "cell_type": "code",
   "execution_count": 206,
   "metadata": {},
   "outputs": [],
   "source": [
    "import pandas as pd\n",
    "df = pd.read_csv('traning_data_after_normalization.csv')"
   ]
  },
  {
   "cell_type": "code",
   "execution_count": 207,
   "metadata": {},
   "outputs": [
    {
     "data": {
      "text/html": [
       "<div>\n",
       "<style scoped>\n",
       "    .dataframe tbody tr th:only-of-type {\n",
       "        vertical-align: middle;\n",
       "    }\n",
       "\n",
       "    .dataframe tbody tr th {\n",
       "        vertical-align: top;\n",
       "    }\n",
       "\n",
       "    .dataframe thead th {\n",
       "        text-align: right;\n",
       "    }\n",
       "</style>\n",
       "<table border=\"1\" class=\"dataframe\">\n",
       "  <thead>\n",
       "    <tr style=\"text-align: right;\">\n",
       "      <th></th>\n",
       "      <th>Unnamed: 0</th>\n",
       "      <th>Trips</th>\n",
       "      <th>Fare Last Month</th>\n",
       "      <th>Trips Last Week (Same Hour)</th>\n",
       "      <th>Trips Last Hour</th>\n",
       "      <th>Tips Last Month</th>\n",
       "      <th>Trips 2 Weeks Ago (Same Hour)</th>\n",
       "      <th>temperature</th>\n",
       "      <th>relative_humidity</th>\n",
       "      <th>wind_direction</th>\n",
       "      <th>...</th>\n",
       "      <th>Day Name_Monday</th>\n",
       "      <th>Day Name_Saturday</th>\n",
       "      <th>Day Name_Sunday</th>\n",
       "      <th>Day Name_Thursday</th>\n",
       "      <th>Day Name_Tuesday</th>\n",
       "      <th>Day Name_Wednesday</th>\n",
       "      <th>daytype_U</th>\n",
       "      <th>daytype_W</th>\n",
       "      <th>year_2018</th>\n",
       "      <th>year_2019</th>\n",
       "    </tr>\n",
       "  </thead>\n",
       "  <tbody>\n",
       "    <tr>\n",
       "      <th>0</th>\n",
       "      <td>0</td>\n",
       "      <td>1</td>\n",
       "      <td>0.034245</td>\n",
       "      <td>0.007905</td>\n",
       "      <td>0.013834</td>\n",
       "      <td>0.013012</td>\n",
       "      <td>0.003953</td>\n",
       "      <td>0.442132</td>\n",
       "      <td>0.753902</td>\n",
       "      <td>0.361111</td>\n",
       "      <td>...</td>\n",
       "      <td>1</td>\n",
       "      <td>0</td>\n",
       "      <td>0</td>\n",
       "      <td>0</td>\n",
       "      <td>0</td>\n",
       "      <td>0</td>\n",
       "      <td>1</td>\n",
       "      <td>0</td>\n",
       "      <td>0</td>\n",
       "      <td>0</td>\n",
       "    </tr>\n",
       "    <tr>\n",
       "      <th>1</th>\n",
       "      <td>1</td>\n",
       "      <td>0</td>\n",
       "      <td>0.038901</td>\n",
       "      <td>0.005929</td>\n",
       "      <td>0.001976</td>\n",
       "      <td>0.010727</td>\n",
       "      <td>0.003953</td>\n",
       "      <td>0.442132</td>\n",
       "      <td>0.753902</td>\n",
       "      <td>0.361111</td>\n",
       "      <td>...</td>\n",
       "      <td>1</td>\n",
       "      <td>0</td>\n",
       "      <td>0</td>\n",
       "      <td>0</td>\n",
       "      <td>0</td>\n",
       "      <td>0</td>\n",
       "      <td>1</td>\n",
       "      <td>0</td>\n",
       "      <td>0</td>\n",
       "      <td>0</td>\n",
       "    </tr>\n",
       "    <tr>\n",
       "      <th>2</th>\n",
       "      <td>2</td>\n",
       "      <td>4</td>\n",
       "      <td>0.069687</td>\n",
       "      <td>0.005929</td>\n",
       "      <td>0.015810</td>\n",
       "      <td>0.031256</td>\n",
       "      <td>0.007905</td>\n",
       "      <td>0.442132</td>\n",
       "      <td>0.753902</td>\n",
       "      <td>0.361111</td>\n",
       "      <td>...</td>\n",
       "      <td>1</td>\n",
       "      <td>0</td>\n",
       "      <td>0</td>\n",
       "      <td>0</td>\n",
       "      <td>0</td>\n",
       "      <td>0</td>\n",
       "      <td>1</td>\n",
       "      <td>0</td>\n",
       "      <td>0</td>\n",
       "      <td>0</td>\n",
       "    </tr>\n",
       "    <tr>\n",
       "      <th>3</th>\n",
       "      <td>3</td>\n",
       "      <td>3</td>\n",
       "      <td>0.049926</td>\n",
       "      <td>0.009881</td>\n",
       "      <td>0.000000</td>\n",
       "      <td>0.022218</td>\n",
       "      <td>0.005929</td>\n",
       "      <td>0.442132</td>\n",
       "      <td>0.753902</td>\n",
       "      <td>0.361111</td>\n",
       "      <td>...</td>\n",
       "      <td>1</td>\n",
       "      <td>0</td>\n",
       "      <td>0</td>\n",
       "      <td>0</td>\n",
       "      <td>0</td>\n",
       "      <td>0</td>\n",
       "      <td>1</td>\n",
       "      <td>0</td>\n",
       "      <td>0</td>\n",
       "      <td>0</td>\n",
       "    </tr>\n",
       "    <tr>\n",
       "      <th>4</th>\n",
       "      <td>4</td>\n",
       "      <td>2</td>\n",
       "      <td>0.035350</td>\n",
       "      <td>0.001976</td>\n",
       "      <td>0.003953</td>\n",
       "      <td>0.016048</td>\n",
       "      <td>0.001976</td>\n",
       "      <td>0.442132</td>\n",
       "      <td>0.753902</td>\n",
       "      <td>0.361111</td>\n",
       "      <td>...</td>\n",
       "      <td>1</td>\n",
       "      <td>0</td>\n",
       "      <td>0</td>\n",
       "      <td>0</td>\n",
       "      <td>0</td>\n",
       "      <td>0</td>\n",
       "      <td>1</td>\n",
       "      <td>0</td>\n",
       "      <td>0</td>\n",
       "      <td>0</td>\n",
       "    </tr>\n",
       "  </tbody>\n",
       "</table>\n",
       "<p>5 rows × 221 columns</p>\n",
       "</div>"
      ],
      "text/plain": [
       "   Unnamed: 0  Trips  Fare Last Month  Trips Last Week (Same Hour)  \\\n",
       "0           0      1         0.034245                     0.007905   \n",
       "1           1      0         0.038901                     0.005929   \n",
       "2           2      4         0.069687                     0.005929   \n",
       "3           3      3         0.049926                     0.009881   \n",
       "4           4      2         0.035350                     0.001976   \n",
       "\n",
       "   Trips Last Hour  Tips Last Month  Trips 2 Weeks Ago (Same Hour)  \\\n",
       "0         0.013834         0.013012                       0.003953   \n",
       "1         0.001976         0.010727                       0.003953   \n",
       "2         0.015810         0.031256                       0.007905   \n",
       "3         0.000000         0.022218                       0.005929   \n",
       "4         0.003953         0.016048                       0.001976   \n",
       "\n",
       "   temperature  relative_humidity  wind_direction  ...  Day Name_Monday  \\\n",
       "0     0.442132           0.753902        0.361111  ...                1   \n",
       "1     0.442132           0.753902        0.361111  ...                1   \n",
       "2     0.442132           0.753902        0.361111  ...                1   \n",
       "3     0.442132           0.753902        0.361111  ...                1   \n",
       "4     0.442132           0.753902        0.361111  ...                1   \n",
       "\n",
       "   Day Name_Saturday  Day Name_Sunday  Day Name_Thursday  Day Name_Tuesday  \\\n",
       "0                  0                0                  0                 0   \n",
       "1                  0                0                  0                 0   \n",
       "2                  0                0                  0                 0   \n",
       "3                  0                0                  0                 0   \n",
       "4                  0                0                  0                 0   \n",
       "\n",
       "   Day Name_Wednesday  daytype_U  daytype_W  year_2018  year_2019  \n",
       "0                   0          1          0          0          0  \n",
       "1                   0          1          0          0          0  \n",
       "2                   0          1          0          0          0  \n",
       "3                   0          1          0          0          0  \n",
       "4                   0          1          0          0          0  \n",
       "\n",
       "[5 rows x 221 columns]"
      ]
     },
     "execution_count": 207,
     "metadata": {},
     "output_type": "execute_result"
    }
   ],
   "source": [
    "df.head()"
   ]
  },
  {
   "cell_type": "code",
   "execution_count": 208,
   "metadata": {},
   "outputs": [],
   "source": [
    "df.drop(columns=['Unnamed: 0',],inplace=True)"
   ]
  },
  {
   "cell_type": "code",
   "execution_count": null,
   "metadata": {
    "scrolled": true
   },
   "outputs": [],
   "source": []
  },
  {
   "cell_type": "code",
   "execution_count": 209,
   "metadata": {},
   "outputs": [
    {
     "name": "stdout",
     "output_type": "stream",
     "text": [
      "<class 'pandas.core.frame.DataFrame'>\n",
      "RangeIndex: 1920149 entries, 0 to 1920148\n",
      "Columns: 220 entries, Trips to year_2019\n",
      "dtypes: float64(10), int64(210)\n",
      "memory usage: 3.1 GB\n"
     ]
    }
   ],
   "source": [
    "df.info()"
   ]
  },
  {
   "cell_type": "code",
   "execution_count": 210,
   "metadata": {
    "scrolled": true
   },
   "outputs": [],
   "source": [
    "float64=['Fare Last Month','Trips Last Week (Same Hour)','Trips Last Hour','Tips Last Month',\"Trips 2 Weeks Ago (Same Hour)\",'temperature','relative_humidity','wind_direction','wind_speed','precipitation']\n",
    "\n",
    "df[float64]=df[float64].astype('float32')\n"
   ]
  },
  {
   "cell_type": "code",
   "execution_count": 211,
   "metadata": {},
   "outputs": [
    {
     "name": "stdout",
     "output_type": "stream",
     "text": [
      "<class 'pandas.core.frame.DataFrame'>\n",
      "RangeIndex: 1920149 entries, 0 to 1920148\n",
      "Columns: 220 entries, Trips to year_2019\n",
      "dtypes: float32(10), int64(210)\n",
      "memory usage: 3.1 GB\n"
     ]
    }
   ],
   "source": [
    "df.info()"
   ]
  },
  {
   "cell_type": "code",
   "execution_count": 212,
   "metadata": {},
   "outputs": [],
   "source": [
    "df.fillna(df.median(),inplace=True)"
   ]
  },
  {
   "cell_type": "code",
   "execution_count": 213,
   "metadata": {},
   "outputs": [],
   "source": [
    "y=df[['Trips']]"
   ]
  },
  {
   "cell_type": "code",
   "execution_count": 214,
   "metadata": {},
   "outputs": [],
   "source": [
    "x=df.drop(columns='Trips',axis=1)"
   ]
  },
  {
   "cell_type": "code",
   "execution_count": 215,
   "metadata": {},
   "outputs": [],
   "source": [
    "y=np.array(y)"
   ]
  },
  {
   "cell_type": "code",
   "execution_count": 216,
   "metadata": {},
   "outputs": [],
   "source": [
    "y=y.ravel()"
   ]
  },
  {
   "cell_type": "code",
   "execution_count": 217,
   "metadata": {},
   "outputs": [
    {
     "data": {
      "text/plain": [
       "(1920149,)"
      ]
     },
     "execution_count": 217,
     "metadata": {},
     "output_type": "execute_result"
    }
   ],
   "source": [
    "y.shape"
   ]
  },
  {
   "cell_type": "code",
   "execution_count": 218,
   "metadata": {},
   "outputs": [],
   "source": [
    "x=np.array(x)"
   ]
  },
  {
   "cell_type": "code",
   "execution_count": 219,
   "metadata": {},
   "outputs": [],
   "source": [
    "from sklearn.model_selection import train_test_split"
   ]
  },
  {
   "cell_type": "code",
   "execution_count": 220,
   "metadata": {},
   "outputs": [],
   "source": [
    "train_features, test_features, train_labels, test_labels = train_test_split(x, y, test_size = 0.25)"
   ]
  },
  {
   "cell_type": "code",
   "execution_count": 221,
   "metadata": {},
   "outputs": [
    {
     "data": {
      "text/plain": [
       "(1440111, 219)"
      ]
     },
     "execution_count": 221,
     "metadata": {},
     "output_type": "execute_result"
    }
   ],
   "source": [
    "train_features.shape"
   ]
  },
  {
   "cell_type": "code",
   "execution_count": 222,
   "metadata": {},
   "outputs": [
    {
     "name": "stdout",
     "output_type": "stream",
     "text": [
      "Training Features Shape: (1440111, 219)\n",
      "Training Labels Shape: (1440111,)\n",
      "Testing Features Shape: (480038, 219)\n",
      "Testing Labels Shape: (480038,)\n"
     ]
    }
   ],
   "source": [
    "print('Training Features Shape:', train_features.shape)\n",
    "print('Training Labels Shape:', train_labels.shape)\n",
    "print('Testing Features Shape:', test_features.shape)\n",
    "print('Testing Labels Shape:', test_labels.shape)\n"
   ]
  },
  {
   "cell_type": "code",
   "execution_count": 223,
   "metadata": {},
   "outputs": [],
   "source": [
    "from sklearn.ensemble import RandomForestRegressor"
   ]
  },
  {
   "cell_type": "code",
   "execution_count": 224,
   "metadata": {},
   "outputs": [],
   "source": [
    "# Instantiate model with 1000 decision trees\n",
    "rf = RandomForestRegressor(n_estimators = 128,bootstrap=True,min_samples_leaf=3,oob_score=True,n_jobs=-1,max_features=0.5,verbose=4)"
   ]
  },
  {
   "cell_type": "code",
   "execution_count": 225,
   "metadata": {},
   "outputs": [
    {
     "name": "stderr",
     "output_type": "stream",
     "text": [
      "[Parallel(n_jobs=-1)]: Using backend ThreadingBackend with 20 concurrent workers.\n"
     ]
    },
    {
     "name": "stdout",
     "output_type": "stream",
     "text": [
      "building tree 1 of 128\n",
      "building tree 2 of 128\n",
      "building tree 3 of 128\n",
      "building tree 4 of 128\n",
      "building tree 5 of 128\n",
      "building tree 6 of 128\n",
      "building tree 7 of 128\n",
      "building tree 8 of 128\n",
      "building tree 9 of 128\n",
      "building tree 10 of 128\n",
      "building tree 11 of 128\n",
      "building tree 12 of 128\n",
      "building tree 13 of 128\n",
      "building tree 14 of 128building tree 15 of 128\n",
      "\n",
      "building tree 16 of 128\n",
      "building tree 17 of 128\n",
      "building tree 18 of 128building tree 19 of 128\n",
      "building tree 20 of 128\n",
      "\n",
      "building tree 21 of 128\n",
      "building tree 22 of 128\n",
      "building tree 23 of 128\n",
      "building tree 24 of 128\n",
      "building tree 25 of 128\n",
      "building tree 26 of 128\n",
      "building tree 27 of 128\n",
      "building tree 28 of 128\n",
      "building tree 29 of 128\n",
      "building tree 30 of 128\n",
      "building tree 31 of 128\n",
      "building tree 32 of 128\n",
      "building tree 33 of 128\n",
      "building tree 34 of 128\n",
      "building tree 35 of 128\n",
      "building tree 36 of 128\n",
      "building tree 37 of 128\n",
      "building tree 38 of 128\n",
      "building tree 39 of 128\n",
      "building tree 40 of 128\n",
      "building tree 41 of 128\n",
      "building tree 42 of 128\n",
      "building tree 43 of 128\n",
      "building tree 44 of 128\n",
      "building tree 45 of 128\n",
      "building tree 46 of 128\n",
      "building tree 47 of 128\n",
      "building tree 48 of 128\n",
      "building tree 49 of 128\n",
      "building tree 50 of 128\n",
      "building tree 51 of 128\n",
      "building tree 52 of 128\n",
      "building tree 53 of 128\n",
      "building tree 54 of 128\n",
      "building tree 55 of 128\n",
      "building tree 56 of 128\n",
      "building tree 57 of 128\n",
      "building tree 58 of 128\n",
      "building tree 59 of 128\n",
      "building tree 60 of 128\n",
      "building tree 61 of 128\n",
      "building tree 62 of 128\n",
      "building tree 63 of 128\n",
      "building tree 64 of 128\n",
      "building tree 65 of 128\n",
      "building tree 66 of 128\n",
      "building tree 67 of 128\n",
      "building tree 68 of 128\n",
      "building tree 69 of 128\n",
      "building tree 70 of 128\n",
      "building tree 71 of 128\n",
      "building tree 72 of 128\n",
      "building tree 73 of 128\n",
      "building tree 74 of 128\n",
      "building tree 75 of 128\n",
      "building tree 76 of 128\n",
      "building tree 77 of 128\n"
     ]
    },
    {
     "name": "stderr",
     "output_type": "stream",
     "text": [
      "[Parallel(n_jobs=-1)]: Done  58 tasks      | elapsed:  5.1min\n"
     ]
    },
    {
     "name": "stdout",
     "output_type": "stream",
     "text": [
      "building tree 78 of 128\n",
      "building tree 79 of 128\n",
      "building tree 80 of 128\n",
      "building tree 81 of 128\n",
      "building tree 82 of 128\n",
      "building tree 83 of 128\n",
      "building tree 84 of 128\n",
      "building tree 85 of 128\n",
      "building tree 86 of 128\n",
      "building tree 87 of 128\n",
      "building tree 88 of 128\n",
      "building tree 89 of 128\n",
      "building tree 90 of 128\n",
      "building tree 91 of 128\n",
      "building tree 92 of 128\n",
      "building tree 93 of 128\n",
      "building tree 94 of 128\n",
      "building tree 95 of 128\n",
      "building tree 96 of 128\n",
      "building tree 97 of 128\n",
      "building tree 98 of 128\n",
      "building tree 99 of 128\n",
      "building tree 100 of 128\n",
      "building tree 101 of 128\n",
      "building tree 102 of 128\n",
      "building tree 103 of 128\n",
      "building tree 104 of 128\n",
      "building tree 105 of 128\n",
      "building tree 106 of 128\n",
      "building tree 107 of 128\n",
      "building tree 108 of 128\n",
      "building tree 109 of 128\n",
      "building tree 110 of 128\n",
      "building tree 111 of 128\n",
      "building tree 112 of 128\n",
      "building tree 113 of 128\n",
      "building tree 114 of 128\n",
      "building tree 115 of 128\n",
      "building tree 116 of 128\n",
      "building tree 117 of 128\n",
      "building tree 118 of 128\n",
      "building tree 119 of 128\n",
      "building tree 120 of 128\n",
      "building tree 121 of 128\n",
      "building tree 122 of 128\n",
      "building tree 123 of 128\n",
      "building tree 124 of 128\n",
      "building tree 125 of 128\n",
      "building tree 126 of 128\n",
      "building tree 127 of 128\n",
      "building tree 128 of 128\n"
     ]
    },
    {
     "name": "stderr",
     "output_type": "stream",
     "text": [
      "[Parallel(n_jobs=-1)]: Done 122 out of 128 | elapsed: 10.7min remaining:   31.6s\n",
      "[Parallel(n_jobs=-1)]: Done 128 out of 128 | elapsed: 10.9min finished\n"
     ]
    }
   ],
   "source": [
    "rf2=rf.fit(train_features, train_labels)"
   ]
  },
  {
   "cell_type": "code",
   "execution_count": 226,
   "metadata": {},
   "outputs": [
    {
     "name": "stderr",
     "output_type": "stream",
     "text": [
      "[Parallel(n_jobs=20)]: Using backend ThreadingBackend with 20 concurrent workers.\n",
      "[Parallel(n_jobs=20)]: Done  58 tasks      | elapsed:    4.0s\n",
      "[Parallel(n_jobs=20)]: Done 122 out of 128 | elapsed:    8.8s remaining:    0.3s\n",
      "[Parallel(n_jobs=20)]: Done 128 out of 128 | elapsed:    8.8s finished\n"
     ]
    }
   ],
   "source": [
    "predict=rf2.predict(train_features)\n"
   ]
  },
  {
   "cell_type": "code",
   "execution_count": 227,
   "metadata": {},
   "outputs": [],
   "source": [
    "import pickle\n",
    "with open('rf2.pickle', 'wb') as f:\n",
    "    pickle.dump(rf2, f)"
   ]
  },
  {
   "cell_type": "code",
   "execution_count": 228,
   "metadata": {},
   "outputs": [],
   "source": [
    "import pickle\n",
    "with open('rf2.pickle', 'rb') as f:\n",
    "        \n",
    "        rf2 = pickle.load(f)"
   ]
  },
  {
   "cell_type": "code",
   "execution_count": 230,
   "metadata": {},
   "outputs": [],
   "source": [
    "import math"
   ]
  },
  {
   "cell_type": "code",
   "execution_count": 231,
   "metadata": {},
   "outputs": [],
   "source": [
    "def rmse(x,y): return math.sqrt(((x-y)**2).mean())"
   ]
  },
  {
   "cell_type": "code",
   "execution_count": 233,
   "metadata": {},
   "outputs": [
    {
     "data": {
      "text/plain": [
       "numpy.ndarray"
      ]
     },
     "execution_count": 233,
     "metadata": {},
     "output_type": "execute_result"
    }
   ],
   "source": [
    "type(predict)"
   ]
  },
  {
   "cell_type": "code",
   "execution_count": 234,
   "metadata": {},
   "outputs": [],
   "source": [
    "train_labels=np.array(train_labels)"
   ]
  },
  {
   "cell_type": "code",
   "execution_count": 235,
   "metadata": {},
   "outputs": [
    {
     "data": {
      "text/plain": [
       "(1440111,)"
      ]
     },
     "execution_count": 235,
     "metadata": {},
     "output_type": "execute_result"
    }
   ],
   "source": [
    "train_labels.shape"
   ]
  },
  {
   "cell_type": "code",
   "execution_count": 236,
   "metadata": {},
   "outputs": [
    {
     "data": {
      "text/plain": [
       "1.8915585735938865"
      ]
     },
     "execution_count": 236,
     "metadata": {},
     "output_type": "execute_result"
    }
   ],
   "source": [
    "rmse(predict, train_labels)"
   ]
  },
  {
   "cell_type": "code",
   "execution_count": 239,
   "metadata": {},
   "outputs": [
    {
     "name": "stderr",
     "output_type": "stream",
     "text": [
      "[Parallel(n_jobs=20)]: Using backend ThreadingBackend with 20 concurrent workers.\n",
      "[Parallel(n_jobs=20)]: Done  58 tasks      | elapsed:    1.3s\n",
      "[Parallel(n_jobs=20)]: Done 122 out of 128 | elapsed:    2.9s remaining:    0.0s\n",
      "[Parallel(n_jobs=20)]: Done 128 out of 128 | elapsed:    2.9s finished\n"
     ]
    }
   ],
   "source": [
    "test_features=rf2.predict(test_features) "
   ]
  },
  {
   "cell_type": "code",
   "execution_count": 240,
   "metadata": {},
   "outputs": [
    {
     "data": {
      "text/plain": [
       "3.2693452288064595"
      ]
     },
     "execution_count": 240,
     "metadata": {},
     "output_type": "execute_result"
    }
   ],
   "source": [
    "rmse(test_features, test_labels)"
   ]
  },
  {
   "cell_type": "code",
   "execution_count": 237,
   "metadata": {
    "scrolled": true
   },
   "outputs": [
    {
     "name": "stderr",
     "output_type": "stream",
     "text": [
      "[Parallel(n_jobs=20)]: Using backend ThreadingBackend with 20 concurrent workers.\n",
      "[Parallel(n_jobs=20)]: Done  58 tasks      | elapsed:    4.0s\n",
      "[Parallel(n_jobs=20)]: Done 122 out of 128 | elapsed:    8.9s remaining:    0.3s\n",
      "[Parallel(n_jobs=20)]: Done 128 out of 128 | elapsed:    9.0s finished\n"
     ]
    },
    {
     "data": {
      "text/plain": [
       "0.9863736129046157"
      ]
     },
     "execution_count": 237,
     "metadata": {},
     "output_type": "execute_result"
    }
   ],
   "source": [
    "rf.score(train_features,train_labels)"
   ]
  },
  {
   "cell_type": "code",
   "execution_count": 181,
   "metadata": {},
   "outputs": [
    {
     "name": "stderr",
     "output_type": "stream",
     "text": [
      "[Parallel(n_jobs=20)]: Using backend ThreadingBackend with 20 concurrent workers.\n",
      "[Parallel(n_jobs=20)]: Done  58 tasks      | elapsed:    1.4s\n",
      "[Parallel(n_jobs=20)]: Done 122 out of 128 | elapsed:    3.1s remaining:    0.1s\n",
      "[Parallel(n_jobs=20)]: Done 128 out of 128 | elapsed:    3.2s finished\n"
     ]
    },
    {
     "data": {
      "text/plain": [
       "0.959339880222225"
      ]
     },
     "execution_count": 181,
     "metadata": {},
     "output_type": "execute_result"
    }
   ],
   "source": [
    "rf.score(test_features,test_labels)"
   ]
  },
  {
   "cell_type": "code",
   "execution_count": null,
   "metadata": {},
   "outputs": [],
   "source": []
  }
 ],
 "metadata": {
  "kernelspec": {
   "display_name": "Python 3",
   "language": "python",
   "name": "python3"
  },
  "language_info": {
   "codemirror_mode": {
    "name": "ipython",
    "version": 3
   },
   "file_extension": ".py",
   "mimetype": "text/x-python",
   "name": "python",
   "nbconvert_exporter": "python",
   "pygments_lexer": "ipython3",
   "version": "3.7.6"
  }
 },
 "nbformat": 4,
 "nbformat_minor": 2
}
