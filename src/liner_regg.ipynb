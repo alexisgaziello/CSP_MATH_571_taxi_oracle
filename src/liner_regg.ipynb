{
 "cells": [
  {
   "cell_type": "code",
   "execution_count": 66,
   "metadata": {},
   "outputs": [],
   "source": [
    "import numpy as np"
   ]
  },
  {
   "cell_type": "code",
   "execution_count": 67,
   "metadata": {},
   "outputs": [
    {
     "name": "stdout",
     "output_type": "stream",
     "text": [
      "C:\\Users\\Iconsense\\abhishek\\taxi\n"
     ]
    }
   ],
   "source": [
    "cd \"C:/Users/Iconsense/abhishek/taxi\""
   ]
  },
  {
   "cell_type": "code",
   "execution_count": 68,
   "metadata": {},
   "outputs": [],
   "source": [
    "import pandas as pd\n",
    "df = pd.read_csv('traning_data_after_normalization.csv')\n",
    "df.drop(columns=\"Unnamed: 0\",inplace=True)"
   ]
  },
  {
   "cell_type": "markdown",
   "metadata": {},
   "source": [
    "### Orignal Col"
   ]
  },
  {
   "cell_type": "code",
   "execution_count": 47,
   "metadata": {},
   "outputs": [],
   "source": [
    "# <class 'pandas.core.frame.DataFrame'>\n",
    "# RangeIndex: 1920149 entries, 0 to 1920148\n",
    "# Data columns (total 21 columns):\n",
    "#  #   Column                         Dtype   \n",
    "# ---  ------                         -----   \n",
    "#  0   pickup_community_area          category\n",
    "#  1   Trips                          int64   \n",
    "#  2   temperature                    float64 \n",
    "#  3   relative_humidity              float64 \n",
    "#  4   wind_direction                 float64 \n",
    "#  5   wind_speed                     float64 \n",
    "#  6   precipitation                  float64 \n",
    "#  7   daytype                        category\n",
    "#  8   sky_level                      float64 \n",
    "#  9   Day Name                       category\n",
    "#  10  Month                          category\n",
    "#  11  Hour                           category\n",
    "#  12  Quarter                        category\n",
    "#  13  Fare Last Month                float64 \n",
    "#  14  Tips Last Month                float64 \n",
    "#  15  Trips Last Hour                int64   \n",
    "#  16  Trips Last Week (Same Hour)    int64   \n",
    "#  17  Trips 2 Weeks Ago (Same Hour)  int64   \n",
    "#  18  weekofyear                     category\n",
    "#  19  day                            category\n",
    "#  20  year                           int64  "
   ]
  },
  {
   "cell_type": "code",
   "execution_count": 69,
   "metadata": {},
   "outputs": [
    {
     "name": "stdout",
     "output_type": "stream",
     "text": [
      "<class 'pandas.core.frame.DataFrame'>\n",
      "RangeIndex: 1920149 entries, 0 to 1920148\n",
      "Columns: 220 entries, Trips to year_2019\n",
      "dtypes: float32(10), int64(210)\n",
      "memory usage: 3.1 GB\n"
     ]
    }
   ],
   "source": [
    "float64=['Fare Last Month','Trips Last Week (Same Hour)','Trips Last Hour','Tips Last Month',\"Trips 2 Weeks Ago (Same Hour)\",'temperature','relative_humidity','wind_direction','wind_speed','precipitation']\n",
    "\n",
    "df[float64]=df[float64].astype('float32')\n",
    "df.info()"
   ]
  },
  {
   "cell_type": "code",
   "execution_count": null,
   "metadata": {},
   "outputs": [],
   "source": []
  },
  {
   "cell_type": "code",
   "execution_count": 70,
   "metadata": {},
   "outputs": [
    {
     "data": {
      "text/html": [
       "<div>\n",
       "<style scoped>\n",
       "    .dataframe tbody tr th:only-of-type {\n",
       "        vertical-align: middle;\n",
       "    }\n",
       "\n",
       "    .dataframe tbody tr th {\n",
       "        vertical-align: top;\n",
       "    }\n",
       "\n",
       "    .dataframe thead th {\n",
       "        text-align: right;\n",
       "    }\n",
       "</style>\n",
       "<table border=\"1\" class=\"dataframe\">\n",
       "  <thead>\n",
       "    <tr style=\"text-align: right;\">\n",
       "      <th></th>\n",
       "      <th>Trips</th>\n",
       "      <th>Fare Last Month</th>\n",
       "      <th>Trips Last Week (Same Hour)</th>\n",
       "      <th>Trips Last Hour</th>\n",
       "      <th>Tips Last Month</th>\n",
       "      <th>Trips 2 Weeks Ago (Same Hour)</th>\n",
       "      <th>temperature</th>\n",
       "      <th>relative_humidity</th>\n",
       "      <th>wind_direction</th>\n",
       "      <th>wind_speed</th>\n",
       "      <th>...</th>\n",
       "      <th>Day Name_Monday</th>\n",
       "      <th>Day Name_Saturday</th>\n",
       "      <th>Day Name_Sunday</th>\n",
       "      <th>Day Name_Thursday</th>\n",
       "      <th>Day Name_Tuesday</th>\n",
       "      <th>Day Name_Wednesday</th>\n",
       "      <th>daytype_U</th>\n",
       "      <th>daytype_W</th>\n",
       "      <th>year_2018</th>\n",
       "      <th>year_2019</th>\n",
       "    </tr>\n",
       "  </thead>\n",
       "  <tbody>\n",
       "    <tr>\n",
       "      <th>0</th>\n",
       "      <td>1</td>\n",
       "      <td>0.034245</td>\n",
       "      <td>0.007905</td>\n",
       "      <td>0.013834</td>\n",
       "      <td>0.013012</td>\n",
       "      <td>0.003953</td>\n",
       "      <td>0.442132</td>\n",
       "      <td>0.753902</td>\n",
       "      <td>0.361111</td>\n",
       "      <td>0.121212</td>\n",
       "      <td>...</td>\n",
       "      <td>1</td>\n",
       "      <td>0</td>\n",
       "      <td>0</td>\n",
       "      <td>0</td>\n",
       "      <td>0</td>\n",
       "      <td>0</td>\n",
       "      <td>1</td>\n",
       "      <td>0</td>\n",
       "      <td>0</td>\n",
       "      <td>0</td>\n",
       "    </tr>\n",
       "    <tr>\n",
       "      <th>1</th>\n",
       "      <td>0</td>\n",
       "      <td>0.038901</td>\n",
       "      <td>0.005929</td>\n",
       "      <td>0.001976</td>\n",
       "      <td>0.010727</td>\n",
       "      <td>0.003953</td>\n",
       "      <td>0.442132</td>\n",
       "      <td>0.753902</td>\n",
       "      <td>0.361111</td>\n",
       "      <td>0.121212</td>\n",
       "      <td>...</td>\n",
       "      <td>1</td>\n",
       "      <td>0</td>\n",
       "      <td>0</td>\n",
       "      <td>0</td>\n",
       "      <td>0</td>\n",
       "      <td>0</td>\n",
       "      <td>1</td>\n",
       "      <td>0</td>\n",
       "      <td>0</td>\n",
       "      <td>0</td>\n",
       "    </tr>\n",
       "    <tr>\n",
       "      <th>2</th>\n",
       "      <td>4</td>\n",
       "      <td>0.069687</td>\n",
       "      <td>0.005929</td>\n",
       "      <td>0.015810</td>\n",
       "      <td>0.031256</td>\n",
       "      <td>0.007905</td>\n",
       "      <td>0.442132</td>\n",
       "      <td>0.753902</td>\n",
       "      <td>0.361111</td>\n",
       "      <td>0.121212</td>\n",
       "      <td>...</td>\n",
       "      <td>1</td>\n",
       "      <td>0</td>\n",
       "      <td>0</td>\n",
       "      <td>0</td>\n",
       "      <td>0</td>\n",
       "      <td>0</td>\n",
       "      <td>1</td>\n",
       "      <td>0</td>\n",
       "      <td>0</td>\n",
       "      <td>0</td>\n",
       "    </tr>\n",
       "    <tr>\n",
       "      <th>3</th>\n",
       "      <td>3</td>\n",
       "      <td>0.049926</td>\n",
       "      <td>0.009881</td>\n",
       "      <td>0.000000</td>\n",
       "      <td>0.022218</td>\n",
       "      <td>0.005929</td>\n",
       "      <td>0.442132</td>\n",
       "      <td>0.753902</td>\n",
       "      <td>0.361111</td>\n",
       "      <td>0.121212</td>\n",
       "      <td>...</td>\n",
       "      <td>1</td>\n",
       "      <td>0</td>\n",
       "      <td>0</td>\n",
       "      <td>0</td>\n",
       "      <td>0</td>\n",
       "      <td>0</td>\n",
       "      <td>1</td>\n",
       "      <td>0</td>\n",
       "      <td>0</td>\n",
       "      <td>0</td>\n",
       "    </tr>\n",
       "    <tr>\n",
       "      <th>4</th>\n",
       "      <td>2</td>\n",
       "      <td>0.035350</td>\n",
       "      <td>0.001976</td>\n",
       "      <td>0.003953</td>\n",
       "      <td>0.016048</td>\n",
       "      <td>0.001976</td>\n",
       "      <td>0.442132</td>\n",
       "      <td>0.753902</td>\n",
       "      <td>0.361111</td>\n",
       "      <td>0.121212</td>\n",
       "      <td>...</td>\n",
       "      <td>1</td>\n",
       "      <td>0</td>\n",
       "      <td>0</td>\n",
       "      <td>0</td>\n",
       "      <td>0</td>\n",
       "      <td>0</td>\n",
       "      <td>1</td>\n",
       "      <td>0</td>\n",
       "      <td>0</td>\n",
       "      <td>0</td>\n",
       "    </tr>\n",
       "  </tbody>\n",
       "</table>\n",
       "<p>5 rows × 220 columns</p>\n",
       "</div>"
      ],
      "text/plain": [
       "   Trips  Fare Last Month  Trips Last Week (Same Hour)  Trips Last Hour  \\\n",
       "0      1         0.034245                     0.007905         0.013834   \n",
       "1      0         0.038901                     0.005929         0.001976   \n",
       "2      4         0.069687                     0.005929         0.015810   \n",
       "3      3         0.049926                     0.009881         0.000000   \n",
       "4      2         0.035350                     0.001976         0.003953   \n",
       "\n",
       "   Tips Last Month  Trips 2 Weeks Ago (Same Hour)  temperature  \\\n",
       "0         0.013012                       0.003953     0.442132   \n",
       "1         0.010727                       0.003953     0.442132   \n",
       "2         0.031256                       0.007905     0.442132   \n",
       "3         0.022218                       0.005929     0.442132   \n",
       "4         0.016048                       0.001976     0.442132   \n",
       "\n",
       "   relative_humidity  wind_direction  wind_speed  ...  Day Name_Monday  \\\n",
       "0           0.753902        0.361111    0.121212  ...                1   \n",
       "1           0.753902        0.361111    0.121212  ...                1   \n",
       "2           0.753902        0.361111    0.121212  ...                1   \n",
       "3           0.753902        0.361111    0.121212  ...                1   \n",
       "4           0.753902        0.361111    0.121212  ...                1   \n",
       "\n",
       "   Day Name_Saturday  Day Name_Sunday  Day Name_Thursday  Day Name_Tuesday  \\\n",
       "0                  0                0                  0                 0   \n",
       "1                  0                0                  0                 0   \n",
       "2                  0                0                  0                 0   \n",
       "3                  0                0                  0                 0   \n",
       "4                  0                0                  0                 0   \n",
       "\n",
       "   Day Name_Wednesday  daytype_U  daytype_W  year_2018  year_2019  \n",
       "0                   0          1          0          0          0  \n",
       "1                   0          1          0          0          0  \n",
       "2                   0          1          0          0          0  \n",
       "3                   0          1          0          0          0  \n",
       "4                   0          1          0          0          0  \n",
       "\n",
       "[5 rows x 220 columns]"
      ]
     },
     "execution_count": 70,
     "metadata": {},
     "output_type": "execute_result"
    }
   ],
   "source": [
    "df.head()"
   ]
  },
  {
   "cell_type": "code",
   "execution_count": 74,
   "metadata": {},
   "outputs": [
    {
     "name": "stdout",
     "output_type": "stream",
     "text": [
      "Training Features Shape: (1440111, 219)\n",
      "Training Labels Shape: (1440111,)\n",
      "Testing Features Shape: (480038, 219)\n",
      "Testing Labels Shape: (480038,)\n"
     ]
    }
   ],
   "source": [
    "df.fillna(df.median(),inplace=True)\n",
    "\n",
    "y=df[['Trips']]\n",
    "\n",
    "x=df.drop(columns='Trips',axis=1)\n",
    "\n",
    "y=np.array(y)\n",
    "\n",
    "y=y.ravel()\n",
    "\n",
    "y.shape\n",
    "\n",
    "x=np.array(x)\n",
    "\n",
    "from sklearn.model_selection import train_test_split\n",
    "\n",
    "train_features, test_features, train_labels, test_labels = train_test_split(x, y, test_size = 0.25)\n",
    "\n",
    "train_features.shape\n",
    "\n",
    "print('Training Features Shape:', train_features.shape)\n",
    "print('Training Labels Shape:', train_labels.shape)\n",
    "print('Testing Features Shape:', test_features.shape)\n",
    "print('Testing Labels Shape:', test_labels.shape)\n"
   ]
  },
  {
   "cell_type": "code",
   "execution_count": 75,
   "metadata": {},
   "outputs": [],
   "source": [
    "from sklearn.linear_model import LinearRegression"
   ]
  },
  {
   "cell_type": "code",
   "execution_count": 77,
   "metadata": {
    "scrolled": true
   },
   "outputs": [],
   "source": [
    "reg = LinearRegression().fit(x, y)"
   ]
  },
  {
   "cell_type": "code",
   "execution_count": 79,
   "metadata": {},
   "outputs": [
    {
     "data": {
      "text/plain": [
       "0.9411143314395977"
      ]
     },
     "execution_count": 79,
     "metadata": {},
     "output_type": "execute_result"
    }
   ],
   "source": [
    "reg.score(x, y)"
   ]
  },
  {
   "cell_type": "code",
   "execution_count": null,
   "metadata": {},
   "outputs": [],
   "source": []
  },
  {
   "cell_type": "code",
   "execution_count": null,
   "metadata": {},
   "outputs": [],
   "source": []
  }
 ],
 "metadata": {
  "kernelspec": {
   "display_name": "Python 3",
   "language": "python",
   "name": "python3"
  },
  "language_info": {
   "codemirror_mode": {
    "name": "ipython",
    "version": 3
   },
   "file_extension": ".py",
   "mimetype": "text/x-python",
   "name": "python",
   "nbconvert_exporter": "python",
   "pygments_lexer": "ipython3",
   "version": "3.7.4"
  }
 },
 "nbformat": 4,
 "nbformat_minor": 4
}
