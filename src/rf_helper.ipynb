{
 "cells": [
  {
   "cell_type": "code",
   "execution_count": null,
   "metadata": {},
   "outputs": [],
   "source": [
    "import os, sys\n",
    "import pandas as pd\n",
    "import math\n",
    "import numpy as np\n",
    "import matplotlib.pyplot as plt\n",
    "import seaborn as sns\n",
    "from collections import Counter\n",
    "import importlib.util\n",
    "import joblib\n",
    "\n",
    "# Get current path from where script is executed\n",
    "if os.name == 'nt':\n",
    "    sep = '\\\\'\n",
    "elif os.name == 'posix':\n",
    "    sep = '/'\n",
    "else:\n",
    "    print(f'What is this OS? {os.name}')\n",
    "\n",
    "path = os.getcwd()\n",
    "pathToSrc =  path[:path.find('src')+3]\n",
    "pathToGDrive =  path[:path.find('Code')]\n",
    "path_datasets = pathToGDrive + f'DataSets{sep}'\n",
    "\n",
    "pathToDataSet = pathToGDrive + f'DataSets{sep}' + 'dataset_test.csv'\n",
    "df = pd.read_csv(pathToDataSet)\n",
    "\n",
    "\n",
    "#MapGenerator Lib\n",
    "path_maps = path + f'{sep}mapGeneration{sep}mapGeneration.py'\n",
    "spec = importlib.util.spec_from_file_location(\"mapGeneration\", path_maps)\n",
    "mp = importlib.util.module_from_spec(spec)\n",
    "spec.loader.exec_module(mp)"
   ]
  },
  {
   "cell_type": "code",
   "execution_count": null,
   "metadata": {},
   "outputs": [],
   "source": [
    "# RandomForest \n",
    "model_randomForest = joblib.load(path_datasets+\"/model/randomforest.pkl\")\n",
    "\n",
    "path_to_model = pathToSrc + f'{sep}models{sep}/randomForest/randomForest.py'\n",
    "spec = importlib.util.spec_from_file_location(\"randomForest\", path_to_model)\n",
    "randomForest = importlib.util.module_from_spec(spec)\n",
    "spec.loader.exec_module(randomForest)"
   ]
  },
  {
   "cell_type": "code",
   "execution_count": null,
   "metadata": {},
   "outputs": [],
   "source": [
    "date = \"2019-12-16 16:00:00\"#getDate from request.form.values:\n",
    "#row = df[df['trip_start_timestamp'] == date].iloc[0,]\n",
    "\n",
    "# Transform to array X\n",
    "X = randomForest.TransformDataToX(df, date)\n",
    "\n",
    "\n",
    "# Predict\n",
    "Y = model_randomForest.predict(X)\n",
    "#prediction = np.random.randint(1,200,77)\n",
    "# Create map\n",
    "\n",
    "prediction = randomForest.TransformYToResult(Y)\n",
    "\n",
    "# Create map\n",
    "mp.mapGenerator(prediction)"
   ]
  },
  {
   "cell_type": "code",
   "execution_count": null,
   "metadata": {},
   "outputs": [],
   "source": []
  }
 ],
 "metadata": {
  "kernelspec": {
   "display_name": "Python 3",
   "language": "python",
   "name": "python3"
  },
  "language_info": {
   "codemirror_mode": {
    "name": "ipython",
    "version": 3
   },
   "file_extension": ".py",
   "mimetype": "text/x-python",
   "name": "python",
   "nbconvert_exporter": "python",
   "pygments_lexer": "ipython3",
   "version": "3.7.4"
  }
 },
 "nbformat": 4,
 "nbformat_minor": 4
}
