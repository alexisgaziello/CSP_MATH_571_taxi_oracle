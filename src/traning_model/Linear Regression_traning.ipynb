{
 "cells": [
  {
   "cell_type": "code",
   "execution_count": 152,
   "metadata": {},
   "outputs": [],
   "source": [
    "import pandas as pd\n",
    "import numpy as np\n",
    "from sklearn.metrics import mean_absolute_error\n",
    "import pickle\n",
    "import matplotlib.pyplot as plt\n",
    "from sklearn.metrics import mean_squared_error"
   ]
  },
  {
   "cell_type": "code",
   "execution_count": 153,
   "metadata": {},
   "outputs": [],
   "source": [
    "import pandas as pd\n",
    "import numpy as np\n",
    "from sklearn.model_selection import train_test_split"
   ]
  },
  {
   "cell_type": "code",
   "execution_count": 154,
   "metadata": {},
   "outputs": [],
   "source": [
    "def rmse(predictions, targets): \n",
    "\n",
    "    return np.sqrt(((predictions - targets) ** 2).mean())"
   ]
  },
  {
   "cell_type": "code",
   "execution_count": 158,
   "metadata": {},
   "outputs": [],
   "source": [
    "def metric(rf):\n",
    "    print(\"Traning Score\")\n",
    "    print(rf.score(x_train,y_train))\n",
    "    print(\"Test Score\")\n",
    "    print(rf.score(x_test,y_test))\n",
    "    print(\"MAE Train\")\n",
    "    train=np.rint(rf.predict(x_train))\n",
    "    test=np.rint(rf.predict(x_test))\n",
    "    print(mean_absolute_error(train, y_train))\n",
    "    print(\"MAE Test\")\n",
    "    print(mean_absolute_error(test, y_test))\n",
    "\n",
    "    print(\"MSE Train\")\n",
    "    print(mean_squared_error(train, y_train))\n",
    "    print(\"MSE Test\")\n",
    "    print(mean_squared_error(test, y_test))\n",
    "    print(\"RMSE Train\")\n",
    "    print(rmse(train,y_train))\n",
    "    print(\"RMSE Test\")\n",
    "    print(rmse(test,y_test))"
   ]
  },
  {
   "cell_type": "code",
   "execution_count": 159,
   "metadata": {},
   "outputs": [],
   "source": [
    "# In order to get reproducible results\n",
    "\n",
    "# Seed value (can actually be different for each attribution step)\n",
    "seed_value= 0\n",
    "\n",
    "# 1. Set `PYTHONHASHSEED` environment variable at a fixed value\n",
    "import os\n",
    "os.environ['PYTHONHASHSEED']=str(seed_value)\n",
    "\n",
    "# 2. Set `python` built-in pseudo-random generator at a fixed value\n",
    "import random\n",
    "random.seed(seed_value)\n",
    "\n",
    "# 3. Set `numpy` pseudo-random generator at a fixed value\n",
    "import numpy as np\n",
    "np.random.seed(seed_value)"
   ]
  },
  {
   "cell_type": "code",
   "execution_count": 160,
   "metadata": {},
   "outputs": [],
   "source": [
    "def load_data():\n",
    "    \n",
    "    def dummie_and_drop(df, name):\n",
    "        # Creates a dummy variable, concatenates it and finally drops the original categorical variable.\n",
    "        # In order not to have redundant variables, one of the dummy variables is dropped too\n",
    "        dummies = pd.get_dummies(df[name]).rename(columns = lambda x: name + '_' + str(x))\n",
    "        dummies = dummies.drop(dummies.columns[-1], axis = 1)\n",
    "        df = pd.concat([df, dummies], axis = 1)\n",
    "        df.drop(columns = [name], inplace=True, axis=1)\n",
    "\n",
    "        return df\n",
    "    \n",
    "    def convert_to_categorical(df, categorical_variables, categories, need_pickup = True):\n",
    "        \"\"\" \n",
    "        The dataframe's selected variables are converted to categorical, and each variable's categories are also specified.\n",
    "        It is also specified if the \"pickup community area\" has to be converted into categorical or no. If it is not \n",
    "        converted into categorical it is because it's not going to be used in the model.            \n",
    "        \"\"\"\n",
    "        \n",
    "        if need_pickup:\n",
    "            begin = 0\n",
    "        else:\n",
    "            df.drop(columns = ['pickup_community_area'], inplace = True, axis = 1)\n",
    "            begin = 1\n",
    "        \n",
    "        for i in range(begin, len(categorical_variables)):\n",
    "            df[categorical_variables[i]] = df[categorical_variables[i]].astype('category').cat.set_categories(categories[i])\n",
    "        return df\n",
    "    \n",
    "    \n",
    "    def load(name, need_pickup = False, drop_correlated = False):\n",
    "    \n",
    "        # This parameter has to be set to True if the \"pickup_community_area\" variable is needed in the model\n",
    "        \n",
    "\n",
    "        # Load needed dataset and choose the useful columns\n",
    "        df = pd.read_csv(name) #'dataset_train.csv')\n",
    "        x = df[['pickup_community_area' ,'temperature', 'relative_humidity', 'wind_direction', 'wind_speed', 'precipitation_cat', \n",
    "                'sky_level', 'daytype', 'Day Name', 'Month', 'Hour', 'Fare Last Month', 'Trips Last Hour',\n",
    "                'Trips Last Week (Same Hour)', 'Trips 2 Weeks Ago (Same Hour)', 'Year']]\n",
    "\n",
    "        # Convert the categorical variables\n",
    "        categorical_variables = ['pickup_community_area', 'daytype', 'sky_level', 'Day Name', 'Month','Hour', 'Year']\n",
    "        categories = [[*(range(1,78))], ['U', 'W', 'A'], ['OVC', 'BKN', 'SCT', 'FEW', 'CLR', 'VV '], \n",
    "                      ['Monday', 'Tuesday', 'Wednesday', 'Thursday', 'Friday', 'Saturday', 'Sunday'], \n",
    "                      [*(range(1,13))], [*(range(0, 24))], [2017, 2018, 2019]]\n",
    "\n",
    "        \n",
    "        x = convert_to_categorical(x, categorical_variables, categories, need_pickup = need_pickup)\n",
    "\n",
    "        \n",
    "        # Make dummy variables with the categorical ones\n",
    "        if need_pickup:\n",
    "            begin = 0\n",
    "        else:\n",
    "            begin = 1\n",
    "        for i in range(begin, len(categorical_variables)):\n",
    "            x = dummie_and_drop(x, name = categorical_variables[i])\n",
    "\n",
    "        y = df['Trips'].to_numpy()\n",
    "\n",
    "        if need_pickup == False:\n",
    "            # If we don't need the pickup, it means this is Neural Network case. Therefore we have to modify Y, in order\n",
    "            # to have \"n_areas\" outputs per input (because there are \"n_areas\" regressions per input)\n",
    "            n_areas = 77\n",
    "            y = np.reshape(y, [-1, n_areas]) # If \n",
    "        \n",
    "        if drop_correlated:\n",
    "            x.drop(columns = ['Trips Last Week (Same Hour)'], inplace = True, axis = 1)\n",
    "            x.drop(columns = ['Trips 2 Weeks Ago (Same Hour)'], inplace = True, axis = 1)\n",
    "        \n",
    "        \n",
    "        x_numerical = x[['temperature', 'relative_humidity', 'wind_direction', 'wind_speed', 'precipitation_cat', \n",
    "                       'Fare Last Month', 'Trips Last Hour']]\n",
    "        \n",
    "        from sklearn import preprocessing\n",
    "        x_numerical = preprocessing.normalize(x_numerical) \n",
    "        \n",
    "        x_df = pd.DataFrame(x_numerical,columns = ['temperature', 'relative_humidity', 'wind_direction', 'wind_speed', 'precipitation_cat', \n",
    "                       'Fare Last Month', 'Trips Last Hour'])\n",
    "        x.drop(columns = ['temperature', 'relative_humidity', 'wind_direction', 'wind_speed', 'precipitation_cat', \n",
    "                       'Fare Last Month', 'Trips Last Hour'],inplace = True, axis = 1) \n",
    "\n",
    "        x2 = pd.concat([x_df, x], axis = 1,sort=False)\n",
    "        \n",
    "        x2 = x2.to_numpy()\n",
    "        \n",
    "        return (x2,y)   \n",
    "    \n",
    "# ------------------------------------- MAIN PROGRAM ------------------------\n",
    "\n",
    "    need_pickup = True \n",
    "    drop_correlated = True\n",
    "    \n",
    "    \n",
    "    name_train = 'dataset_train.csv'\n",
    "#    name_test = 'dataset_test.csv'\n",
    "    x_train, y_train = load(name_train, need_pickup, drop_correlated)\n",
    "#    x_test, y_test = load(name_test, need_pickup, drop_correlated)\n",
    "    x_train, x_test, y_train, y_test = train_test_split(x_train, y_train, test_size=0.15,shuffle=True)\n",
    "    \n",
    "    return (x_train, x_test, y_train, y_test)"
   ]
  },
  {
   "cell_type": "code",
   "execution_count": 161,
   "metadata": {
    "scrolled": false
   },
   "outputs": [
    {
     "name": "stderr",
     "output_type": "stream",
     "text": [
      "C:\\Users\\Iconsense\\Anaconda3\\envs\\abhishek\\lib\\site-packages\\ipykernel_launcher.py:27: SettingWithCopyWarning: \n",
      "A value is trying to be set on a copy of a slice from a DataFrame.\n",
      "Try using .loc[row_indexer,col_indexer] = value instead\n",
      "\n",
      "See the caveats in the documentation: https://pandas.pydata.org/pandas-docs/stable/user_guide/indexing.html#returning-a-view-versus-a-copy\n"
     ]
    }
   ],
   "source": [
    "x_train, x_test, y_train, y_test = load_data()"
   ]
  },
  {
   "cell_type": "code",
   "execution_count": 162,
   "metadata": {},
   "outputs": [
    {
     "data": {
      "text/plain": [
       "(1584937, 132)"
      ]
     },
     "execution_count": 162,
     "metadata": {},
     "output_type": "execute_result"
    }
   ],
   "source": [
    "x_train.shape"
   ]
  },
  {
   "cell_type": "code",
   "execution_count": null,
   "metadata": {},
   "outputs": [],
   "source": []
  },
  {
   "cell_type": "code",
   "execution_count": 163,
   "metadata": {},
   "outputs": [],
   "source": [
    "from sklearn.linear_model import LinearRegression\n",
    "lm = LinearRegression()\n",
    "reg = lm.fit(x_train, y_train) \n",
    "pred = lm.predict(x_test)"
   ]
  },
  {
   "cell_type": "code",
   "execution_count": 164,
   "metadata": {},
   "outputs": [],
   "source": [
    "y_pred = lm.predict(x_test)"
   ]
  },
  {
   "cell_type": "code",
   "execution_count": 165,
   "metadata": {},
   "outputs": [
    {
     "name": "stdout",
     "output_type": "stream",
     "text": [
      "Traning Score\n",
      "0.6408012634577328\n",
      "Test Score\n",
      "0.638109125333943\n",
      "MAE Train\n",
      "3.1137490007489257\n",
      "MAE Test\n",
      "3.1245177782942135\n",
      "MSE Train\n",
      "95.68214004720693\n",
      "MSE Test\n",
      "97.18153703140922\n",
      "RMSE Train\n",
      "9.781724799196047\n",
      "RMSE Test\n",
      "9.858069640219083\n"
     ]
    }
   ],
   "source": [
    "metric(reg)"
   ]
  },
  {
   "cell_type": "code",
   "execution_count": 167,
   "metadata": {},
   "outputs": [],
   "source": [
    "df_pred = pd.DataFrame({'Actual': y_test, 'Predicted': y_pred})\n",
    "df_compare = df_pred.head(25)\n"
   ]
  },
  {
   "cell_type": "code",
   "execution_count": 168,
   "metadata": {},
   "outputs": [
    {
     "data": {
      "text/html": [
       "<div>\n",
       "<style scoped>\n",
       "    .dataframe tbody tr th:only-of-type {\n",
       "        vertical-align: middle;\n",
       "    }\n",
       "\n",
       "    .dataframe tbody tr th {\n",
       "        vertical-align: top;\n",
       "    }\n",
       "\n",
       "    .dataframe thead th {\n",
       "        text-align: right;\n",
       "    }\n",
       "</style>\n",
       "<table border=\"1\" class=\"dataframe\">\n",
       "  <thead>\n",
       "    <tr style=\"text-align: right;\">\n",
       "      <th></th>\n",
       "      <th>Actual</th>\n",
       "      <th>Predicted</th>\n",
       "    </tr>\n",
       "  </thead>\n",
       "  <tbody>\n",
       "    <tr>\n",
       "      <th>0</th>\n",
       "      <td>0</td>\n",
       "      <td>-0.851562</td>\n",
       "    </tr>\n",
       "    <tr>\n",
       "      <th>1</th>\n",
       "      <td>0</td>\n",
       "      <td>1.853027</td>\n",
       "    </tr>\n",
       "    <tr>\n",
       "      <th>2</th>\n",
       "      <td>0</td>\n",
       "      <td>0.646973</td>\n",
       "    </tr>\n",
       "    <tr>\n",
       "      <th>3</th>\n",
       "      <td>0</td>\n",
       "      <td>-0.537598</td>\n",
       "    </tr>\n",
       "    <tr>\n",
       "      <th>4</th>\n",
       "      <td>2</td>\n",
       "      <td>2.837891</td>\n",
       "    </tr>\n",
       "    <tr>\n",
       "      <th>5</th>\n",
       "      <td>1</td>\n",
       "      <td>-1.025391</td>\n",
       "    </tr>\n",
       "    <tr>\n",
       "      <th>6</th>\n",
       "      <td>0</td>\n",
       "      <td>-0.446777</td>\n",
       "    </tr>\n",
       "    <tr>\n",
       "      <th>7</th>\n",
       "      <td>0</td>\n",
       "      <td>-2.134277</td>\n",
       "    </tr>\n",
       "    <tr>\n",
       "      <th>8</th>\n",
       "      <td>0</td>\n",
       "      <td>0.669434</td>\n",
       "    </tr>\n",
       "    <tr>\n",
       "      <th>9</th>\n",
       "      <td>0</td>\n",
       "      <td>1.261719</td>\n",
       "    </tr>\n",
       "    <tr>\n",
       "      <th>10</th>\n",
       "      <td>0</td>\n",
       "      <td>0.004883</td>\n",
       "    </tr>\n",
       "    <tr>\n",
       "      <th>11</th>\n",
       "      <td>0</td>\n",
       "      <td>1.916504</td>\n",
       "    </tr>\n",
       "    <tr>\n",
       "      <th>12</th>\n",
       "      <td>0</td>\n",
       "      <td>-1.407715</td>\n",
       "    </tr>\n",
       "    <tr>\n",
       "      <th>13</th>\n",
       "      <td>1</td>\n",
       "      <td>2.166504</td>\n",
       "    </tr>\n",
       "    <tr>\n",
       "      <th>14</th>\n",
       "      <td>1</td>\n",
       "      <td>2.011230</td>\n",
       "    </tr>\n",
       "    <tr>\n",
       "      <th>15</th>\n",
       "      <td>1</td>\n",
       "      <td>1.699219</td>\n",
       "    </tr>\n",
       "    <tr>\n",
       "      <th>16</th>\n",
       "      <td>0</td>\n",
       "      <td>1.111816</td>\n",
       "    </tr>\n",
       "    <tr>\n",
       "      <th>17</th>\n",
       "      <td>0</td>\n",
       "      <td>1.840820</td>\n",
       "    </tr>\n",
       "    <tr>\n",
       "      <th>18</th>\n",
       "      <td>2</td>\n",
       "      <td>3.424805</td>\n",
       "    </tr>\n",
       "    <tr>\n",
       "      <th>19</th>\n",
       "      <td>0</td>\n",
       "      <td>0.926270</td>\n",
       "    </tr>\n",
       "    <tr>\n",
       "      <th>20</th>\n",
       "      <td>0</td>\n",
       "      <td>-0.814941</td>\n",
       "    </tr>\n",
       "    <tr>\n",
       "      <th>21</th>\n",
       "      <td>0</td>\n",
       "      <td>1.264160</td>\n",
       "    </tr>\n",
       "    <tr>\n",
       "      <th>22</th>\n",
       "      <td>0</td>\n",
       "      <td>1.333984</td>\n",
       "    </tr>\n",
       "    <tr>\n",
       "      <th>23</th>\n",
       "      <td>0</td>\n",
       "      <td>-1.070312</td>\n",
       "    </tr>\n",
       "    <tr>\n",
       "      <th>24</th>\n",
       "      <td>0</td>\n",
       "      <td>0.057617</td>\n",
       "    </tr>\n",
       "  </tbody>\n",
       "</table>\n",
       "</div>"
      ],
      "text/plain": [
       "    Actual  Predicted\n",
       "0        0  -0.851562\n",
       "1        0   1.853027\n",
       "2        0   0.646973\n",
       "3        0  -0.537598\n",
       "4        2   2.837891\n",
       "5        1  -1.025391\n",
       "6        0  -0.446777\n",
       "7        0  -2.134277\n",
       "8        0   0.669434\n",
       "9        0   1.261719\n",
       "10       0   0.004883\n",
       "11       0   1.916504\n",
       "12       0  -1.407715\n",
       "13       1   2.166504\n",
       "14       1   2.011230\n",
       "15       1   1.699219\n",
       "16       0   1.111816\n",
       "17       0   1.840820\n",
       "18       2   3.424805\n",
       "19       0   0.926270\n",
       "20       0  -0.814941\n",
       "21       0   1.264160\n",
       "22       0   1.333984\n",
       "23       0  -1.070312\n",
       "24       0   0.057617"
      ]
     },
     "execution_count": 168,
     "metadata": {},
     "output_type": "execute_result"
    }
   ],
   "source": [
    "df_compare # Comparing the actual and predicted values of the normalized dataset "
   ]
  },
  {
   "cell_type": "code",
   "execution_count": 169,
   "metadata": {},
   "outputs": [
    {
     "data": {
      "image/png": "[encoded data removed]",
      "text/plain": [
       "<Figure size 720x576 with 1 Axes>"
      ]
     },
     "metadata": {
      "needs_background": "light"
     },
     "output_type": "display_data"
    }
   ],
   "source": [
    "import matplotlib.pyplot as plt\n",
    "df_compare.plot(kind='bar',figsize=(10,8))\n",
    "plt.grid(which='major', linestyle='-', linewidth='0.5', color='green')\n",
    "plt.grid(which='minor', linestyle=':', linewidth='0.5', color='black')\n",
    "plt.show() "
   ]
  },
  {
   "cell_type": "code",
   "execution_count": 170,
   "metadata": {},
   "outputs": [],
   "source": [
    "    # This is value of MAE after normalization"
   ]
  },
  {
   "cell_type": "code",
   "execution_count": 270,
   "metadata": {},
   "outputs": [],
   "source": [
    "# Let's check for data without normalization\n",
    "def load_data():\n",
    "    \n",
    "    def dummie_and_drop(df, name):\n",
    "        # Creates a dummy variable, concatenates it and finally drops the original categorical variable.\n",
    "        # In order not to have redundant variables, one of the dummy variables is dropped too\n",
    "        dummies = pd.get_dummies(df[name]).rename(columns = lambda x: name + '_' + str(x))\n",
    "        dummies = dummies.drop(dummies.columns[-1], axis = 1)\n",
    "        df = pd.concat([df, dummies], axis = 1)\n",
    "        df.drop(columns = [name], inplace=True, axis=1)\n",
    "\n",
    "        return df\n",
    "    \n",
    "    def convert_to_categorical(df, categorical_variables, categories, need_pickup = True):\n",
    "        \"\"\" \n",
    "        The dataframe's selected variables are converted to categorical, and each variable's categories are also specified.\n",
    "        It is also specified if the \"pickup community area\" has to be converted into categorical or no. If it is not \n",
    "        converted into categorical it is because it's not going to be used in the model.            \n",
    "        \"\"\"\n",
    "        \n",
    "        if need_pickup:\n",
    "            begin = 0\n",
    "        else:\n",
    "            df.drop(columns = ['pickup_community_area'], inplace = True, axis = 1)\n",
    "            begin = 1\n",
    "        \n",
    "        for i in range(begin, len(categorical_variables)):\n",
    "            df[categorical_variables[i]] = df[categorical_variables[i]].astype('category').cat.set_categories(categories[i])\n",
    "        return df\n",
    "    \n",
    "    \n",
    "    def load(name, need_pickup = False, drop_correlated = False):\n",
    "    \n",
    "        # This parameter has to be set to True if the \"pickup_community_area\" variable is needed in the model\n",
    "        \n",
    "\n",
    "        # Load needed dataset and choose the useful columns\n",
    "        df = pd.read_csv(name) #'dataset_train.csv')\n",
    "        x = df[['pickup_community_area' ,'temperature', 'relative_humidity', 'wind_direction', 'wind_speed', 'precipitation_cat', \n",
    "                'sky_level', 'daytype', 'Day Name', 'Month', 'Hour', 'Fare Last Month', 'Trips Last Hour',\n",
    "                'Trips Last Week (Same Hour)', 'Trips 2 Weeks Ago (Same Hour)', 'Year']]\n",
    "\n",
    "        # Convert the categorical variables\n",
    "        categorical_variables = ['pickup_community_area', 'daytype', 'sky_level', 'Day Name', 'Month','Hour', 'Year']\n",
    "        categories = [[*(range(1,78))], ['U', 'W', 'A'], ['OVC', 'BKN', 'SCT', 'FEW', 'CLR', 'VV '], \n",
    "                      ['Monday', 'Tuesday', 'Wednesday', 'Thursday', 'Friday', 'Saturday', 'Sunday'], \n",
    "                      [*(range(1,13))], [*(range(0, 24))], [2017, 2018, 2019]]\n",
    "\n",
    "        \n",
    "        x = convert_to_categorical(x, categorical_variables, categories, need_pickup = need_pickup)\n",
    "\n",
    "        \n",
    "        # Make dummy variables with the categorical ones\n",
    "        if need_pickup:\n",
    "            begin = 0\n",
    "        else:\n",
    "            begin = 1\n",
    "        for i in range(begin, len(categorical_variables)):\n",
    "            x = dummie_and_drop(x, name = categorical_variables[i])\n",
    "\n",
    "        y = df['Trips'].to_numpy()\n",
    "\n",
    "        if need_pickup == False:\n",
    "            # If we don't need the pickup, it means this is Neural Network case. Therefore we have to modify Y, in order\n",
    "            # to have \"n_areas\" outputs per input (because there are \"n_areas\" regressions per input)\n",
    "            n_areas = 77\n",
    "            y = np.reshape(y, [-1, n_areas]) # If \n",
    "        \n",
    "        if drop_correlated:\n",
    "            x.drop(columns = ['Trips Last Week (Same Hour)'], inplace = True, axis = 1)\n",
    "            x.drop(columns = ['Trips 2 Weeks Ago (Same Hour)'], inplace = True, axis = 1)\n",
    "                \n",
    "        #x = x.to_numpy()\n",
    "        \n",
    "        return (x,y)   \n",
    "    \n",
    "# ------------------------------------- MAIN PROGRAM ------------------------\n",
    "\n",
    "    need_pickup = True \n",
    "    drop_correlated = False\n",
    "    \n",
    "    \n",
    "    name_train = 'dataset_train.csv'\n",
    "    #name_test = 'dataset_test.csv'\n",
    "    x, y = load(name_train, need_pickup, drop_correlated)\n",
    "    #x_test, y_test = load(name_test, need_pickup, drop_correlated)\n",
    "    x_train, x_test, y_train, y_test = train_test_split(x, y, test_size=0.5,shuffle=True)\n",
    "\n",
    "    \n",
    "    return (x_train, x_test, y_train, y_test)"
   ]
  },
  {
   "cell_type": "code",
   "execution_count": 271,
   "metadata": {},
   "outputs": [
    {
     "name": "stderr",
     "output_type": "stream",
     "text": [
      "C:\\Users\\Iconsense\\Anaconda3\\envs\\abhishek\\lib\\site-packages\\ipykernel_launcher.py:28: SettingWithCopyWarning: \n",
      "A value is trying to be set on a copy of a slice from a DataFrame.\n",
      "Try using .loc[row_indexer,col_indexer] = value instead\n",
      "\n",
      "See the caveats in the documentation: https://pandas.pydata.org/pandas-docs/stable/user_guide/indexing.html#returning-a-view-versus-a-copy\n"
     ]
    }
   ],
   "source": [
    "x_train, x_test, y_train, y_test = load_data()"
   ]
  },
  {
   "cell_type": "code",
   "execution_count": 272,
   "metadata": {},
   "outputs": [
    {
     "data": {
      "text/plain": [
       "(932316, 134)"
      ]
     },
     "execution_count": 272,
     "metadata": {},
     "output_type": "execute_result"
    }
   ],
   "source": [
    "x_train.shape"
   ]
  },
  {
   "cell_type": "code",
   "execution_count": 273,
   "metadata": {},
   "outputs": [],
   "source": [
    "from sklearn.linear_model import LinearRegression\n",
    "lm = LinearRegression()\n",
    "reg = lm.fit(x_train, y_train) \n",
    "pred = lm.predict(x_test)"
   ]
  },
  {
   "cell_type": "code",
   "execution_count": 274,
   "metadata": {},
   "outputs": [],
   "source": [
    "y_pred = lm.predict(x_test)"
   ]
  },
  {
   "cell_type": "code",
   "execution_count": 275,
   "metadata": {},
   "outputs": [
    {
     "name": "stdout",
     "output_type": "stream",
     "text": [
      "MAE Train\n",
      "1.188086442794074\n",
      "MAE Test\n",
      "1.1847646077081162\n",
      "MSE Train\n",
      "15.762211524847798\n",
      "MSE Test\n",
      "15.70067123164249\n",
      "RMSE Train\n",
      "3.970165176015703\n",
      "RMSE Test\n",
      "3.9624072521186524\n"
     ]
    }
   ],
   "source": [
    "metric(reg)"
   ]
  },
  {
   "cell_type": "code",
   "execution_count": 276,
   "metadata": {},
   "outputs": [
    {
     "data": {
      "text/plain": [
       "-0.5611288790778546"
      ]
     },
     "execution_count": 276,
     "metadata": {},
     "output_type": "execute_result"
    }
   ],
   "source": [
    "reg.intercept_"
   ]
  },
  {
   "cell_type": "code",
   "execution_count": 223,
   "metadata": {},
   "outputs": [],
   "source": [
    "with open('reg.pickle', 'wb') as f:\n",
    "    pickle.dump(reg, f)\n"
   ]
  },
  {
   "cell_type": "code",
   "execution_count": 212,
   "metadata": {},
   "outputs": [],
   "source": [
    "df_pred = pd.DataFrame({'Actual': y_test, 'Predicted': y_pred})\n",
    "df_compare = df_pred.head(40)\n"
   ]
  },
  {
   "cell_type": "code",
   "execution_count": 213,
   "metadata": {},
   "outputs": [
    {
     "data": {
      "image/png": "[encoded data removed]",
      "text/plain": [
       "<Figure size 720x576 with 1 Axes>"
      ]
     },
     "metadata": {
      "needs_background": "light"
     },
     "output_type": "display_data"
    }
   ],
   "source": [
    "import matplotlib.pyplot as plt\n",
    "df_compare.plot(kind='bar',figsize=(10,8))\n",
    "plt.grid(which='major', linestyle='-', linewidth='0.5', color='green')\n",
    "plt.grid(which='minor', linestyle=':', linewidth='0.5', color='black')\n",
    "plt.show() "
   ]
  },
  {
   "cell_type": "code",
   "execution_count": 181,
   "metadata": {},
   "outputs": [],
   "source": [
    "def load_data():\n",
    "    \n",
    "    def dummie_and_drop(df, name):\n",
    "        # Creates a dummy variable, concatenates it and finally drops the original categorical variable.\n",
    "        # In order not to have redundant variables, one of the dummy variables is dropped too\n",
    "        dummies = pd.get_dummies(df[name]).rename(columns = lambda x: name + '_' + str(x))\n",
    "        dummies = dummies.drop(dummies.columns[-1], axis = 1)\n",
    "        df = pd.concat([df, dummies], axis = 1)\n",
    "        df.drop(columns = [name], inplace=True, axis=1)\n",
    "\n",
    "        return df\n",
    "    \n",
    "    def convert_to_categorical(df, categorical_variables, categories, need_pickup = True):\n",
    "        \"\"\" \n",
    "        The dataframe's selected variables are converted to categorical, and each variable's categories are also specified.\n",
    "        It is also specified if the \"pickup community area\" has to be converted into categorical or no. If it is not \n",
    "        converted into categorical it is because it's not going to be used in the model.            \n",
    "        \"\"\"\n",
    "        \n",
    "        if need_pickup:\n",
    "            begin = 0\n",
    "        else:\n",
    "            df.drop(columns = ['pickup_community_area'], inplace = True, axis = 1)\n",
    "            begin = 1\n",
    "        \n",
    "        for i in range(begin, len(categorical_variables)):\n",
    "            df[categorical_variables[i]] = df[categorical_variables[i]].astype('category').cat.set_categories(categories[i])\n",
    "        return df\n",
    "    \n",
    "    \n",
    "    def load(name, need_pickup = False, drop_correlated = False):\n",
    "    \n",
    "        # This parameter has to be set to True if the \"pickup_community_area\" variable is needed in the model\n",
    "        \n",
    "\n",
    "        # Load needed dataset and choose the useful columns\n",
    "        df = pd.read_csv(name) #'dataset_train.csv')\n",
    "        x = df[['pickup_community_area' ,'temperature', 'relative_humidity', 'wind_direction', 'wind_speed', 'precipitation_cat', \n",
    "                'sky_level', 'daytype', 'Day Name', 'Month', 'Hour', 'Fare Last Month', 'Trips Last Hour',\n",
    "                'Trips Last Week (Same Hour)', 'Trips 2 Weeks Ago (Same Hour)', 'Year']]\n",
    "\n",
    "        # Convert the categorical variables\n",
    "        categorical_variables = ['pickup_community_area', 'daytype', 'sky_level', 'Day Name', 'Month','Hour', 'Year']\n",
    "        categories = [[*(range(1,78))], ['U', 'W', 'A'], ['OVC', 'BKN', 'SCT', 'FEW', 'CLR', 'VV '], \n",
    "                      ['Monday', 'Tuesday', 'Wednesday', 'Thursday', 'Friday', 'Saturday', 'Sunday'], \n",
    "                      [*(range(1,13))], [*(range(0, 24))], [2017, 2018, 2019]]\n",
    "\n",
    "        \n",
    "        x = convert_to_categorical(x, categorical_variables, categories, need_pickup = need_pickup)\n",
    "\n",
    "        \n",
    "        # Make dummy variables with the categorical ones\n",
    "        if need_pickup:\n",
    "            begin = 0\n",
    "        else:\n",
    "            begin = 1\n",
    "        for i in range(begin, len(categorical_variables)):\n",
    "            x = dummie_and_drop(x, name = categorical_variables[i])\n",
    "\n",
    "        y = df['Trips'].to_numpy()\n",
    "\n",
    "        if need_pickup == False:\n",
    "            # If we don't need the pickup, it means this is Neural Network case. Therefore we have to modify Y, in order\n",
    "            # to have \"n_areas\" outputs per input (because there are \"n_areas\" regressions per input)\n",
    "            n_areas = 77\n",
    "            y = np.reshape(y, [-1, n_areas]) # If \n",
    "        \n",
    "        if drop_correlated:\n",
    "            x.drop(columns = ['Trips Last Week (Same Hour)'], inplace = True, axis = 1)\n",
    "            x.drop(columns = ['Trips 2 Weeks Ago (Same Hour)'], inplace = True, axis = 1)\n",
    "        \n",
    "        \n",
    "        x_numerical = x[['temperature', 'relative_humidity', 'wind_direction', 'wind_speed', 'precipitation_cat', \n",
    "                       'Fare Last Month', 'Trips Last Hour','Trips Last Week (Same Hour)', 'Trips 2 Weeks Ago (Same Hour)']]\n",
    "        \n",
    "        from sklearn import preprocessing\n",
    "        x_numerical = preprocessing.normalize(x_numerical) \n",
    "        \n",
    "        x_df = pd.DataFrame(x_numerical,columns = ['temperature', 'relative_humidity', 'wind_direction', 'wind_speed', 'precipitation_cat', \n",
    "                       'Fare Last Month', 'Trips Last Hour','Trips Last Week (Same Hour)', 'Trips 2 Weeks Ago (Same Hour)'])\n",
    "        x.drop(columns = ['temperature', 'relative_humidity', 'wind_direction', 'wind_speed', 'precipitation_cat', \n",
    "                       'Fare Last Month', 'Trips Last Hour','Trips Last Week (Same Hour)', 'Trips 2 Weeks Ago (Same Hour)'],inplace = True, axis = 1) \n",
    "\n",
    "        x2 = pd.concat([x_df, x], axis = 1,sort=False)\n",
    "        \n",
    "        x2 = x2.to_numpy()\n",
    "        \n",
    "        return (x2,y)   \n",
    "    \n",
    "# ------------------------------------- MAIN PROGRAM ------------------------\n",
    "\n",
    "    need_pickup = True \n",
    "    drop_correlated = False\n",
    "    \n",
    "    \n",
    "    name_train = 'dataset_train.csv'\n",
    "#    name_test = 'dataset_test.csv'\n",
    "    x_train, y_train = load(name_train, need_pickup, drop_correlated)\n",
    "#    x_test, y_test = load(name_test, need_pickup, drop_correlated)\n",
    "    x_train, x_test, y_train, y_test = train_test_split(x_train, y_train, test_size=0.15,shuffle=True)\n",
    "    \n",
    "    return (x_train, x_test, y_train, y_test)"
   ]
  },
  {
   "cell_type": "code",
   "execution_count": 200,
   "metadata": {},
   "outputs": [
    {
     "name": "stderr",
     "output_type": "stream",
     "text": [
      "C:\\Users\\Iconsense\\Anaconda3\\envs\\abhishek\\lib\\site-packages\\ipykernel_launcher.py:27: SettingWithCopyWarning: \n",
      "A value is trying to be set on a copy of a slice from a DataFrame.\n",
      "Try using .loc[row_indexer,col_indexer] = value instead\n",
      "\n",
      "See the caveats in the documentation: https://pandas.pydata.org/pandas-docs/stable/user_guide/indexing.html#returning-a-view-versus-a-copy\n"
     ]
    },
    {
     "name": "stdout",
     "output_type": "stream",
     "text": [
      "Traning Score\n",
      "0.6391008714777922\n",
      "Test Score\n",
      "0.6465749210036636\n",
      "MAE Train\n",
      "3.124933041502596\n",
      "MAE Test\n",
      "3.0951500741879547\n",
      "MSE Train\n",
      "96.14723487431992\n",
      "MSE Test\n",
      "94.86844598580596\n",
      "RMSE Train\n",
      "9.80546964068116\n",
      "RMSE Test\n",
      "9.740043428332646\n"
     ]
    }
   ],
   "source": [
    "x_train, x_test, y_train, y_test = load_data()\n",
    "\n",
    "\n",
    "from sklearn.linear_model import LinearRegression\n",
    "lm = LinearRegression()\n",
    "reg = lm.fit(x_train, y_train) \n",
    "pred = lm.predict(x_test)\n",
    "\n",
    "y_pred = lm.predict(x_test)\n",
    "\n",
    "metric(reg)"
   ]
  },
  {
   "cell_type": "code",
   "execution_count": null,
   "metadata": {},
   "outputs": [],
   "source": []
  },
  {
   "cell_type": "code",
   "execution_count": 195,
   "metadata": {},
   "outputs": [],
   "source": [
    "df_pred = pd.DataFrame({'Actual': y_test, 'Predicted': y_pred})\n",
    "df_compare = df_pred.head(25)"
   ]
  },
  {
   "cell_type": "code",
   "execution_count": 196,
   "metadata": {},
   "outputs": [],
   "source": [
    "#df_compare  # Actual and predicted values from our model"
   ]
  },
  {
   "cell_type": "code",
   "execution_count": 197,
   "metadata": {},
   "outputs": [
    {
     "data": {
      "image/png": "[encoded data removed]",
      "text/plain": [
       "<Figure size 720x576 with 1 Axes>"
      ]
     },
     "metadata": {
      "needs_background": "light"
     },
     "output_type": "display_data"
    }
   ],
   "source": [
    "import matplotlib.pyplot as plt\n",
    "df_compare.plot(kind='bar',figsize=(10,8))\n",
    "plt.grid(which='major', linestyle='-', linewidth='0.5', color='green')\n",
    "plt.grid(which='minor', linestyle=':', linewidth='0.5', color='black')\n",
    "plt.show()"
   ]
  },
  {
   "cell_type": "code",
   "execution_count": 299,
   "metadata": {},
   "outputs": [],
   "source": [
    "# Let's check for data without normalization\n",
    "def load_data():\n",
    "    \n",
    "    def dummie_and_drop(df, name):\n",
    "        # Creates a dummy variable, concatenates it and finally drops the original categorical variable.\n",
    "        # In order not to have redundant variables, one of the dummy variables is dropped too\n",
    "        dummies = pd.get_dummies(df[name]).rename(columns = lambda x: name + '_' + str(x))\n",
    "        dummies = dummies.drop(dummies.columns[-1], axis = 1)\n",
    "        df = pd.concat([df, dummies], axis = 1)\n",
    "        df.drop(columns = [name], inplace=True, axis=1)\n",
    "\n",
    "        return df\n",
    "    \n",
    "    def convert_to_categorical(df, categorical_variables, categories, need_pickup = True):\n",
    "        \"\"\" \n",
    "        The dataframe's selected variables are converted to categorical, and each variable's categories are also specified.\n",
    "        It is also specified if the \"pickup community area\" has to be converted into categorical or no. If it is not \n",
    "        converted into categorical it is because it's not going to be used in the model.            \n",
    "        \"\"\"\n",
    "        \n",
    "        if need_pickup:\n",
    "            begin = 0\n",
    "        else:\n",
    "            df.drop(columns = ['pickup_community_area'], inplace = True, axis = 1)\n",
    "            begin = 1\n",
    "        \n",
    "        for i in range(begin, len(categorical_variables)):\n",
    "            df[categorical_variables[i]] = df[categorical_variables[i]].astype('category').cat.set_categories(categories[i])\n",
    "        return df\n",
    "    \n",
    "    \n",
    "    def load(name, need_pickup = False, drop_correlated = False):\n",
    "    \n",
    "        # This parameter has to be set to True if the \"pickup_community_area\" variable is needed in the model\n",
    "        \n",
    "\n",
    "        # Load needed dataset and choose the useful columns\n",
    "        df = pd.read_csv(name) #'dataset_train.csv')\n",
    "        x = df[['pickup_community_area' ,'temperature', 'relative_humidity', 'wind_direction', 'wind_speed', 'precipitation_cat', \n",
    "                'sky_level', 'daytype', 'Day Name', 'Month', 'Hour', 'Fare Last Month', 'Trips Last Hour',\n",
    "                'Trips Last Week (Same Hour)', 'Trips 2 Weeks Ago (Same Hour)', 'Year']]\n",
    "\n",
    "        # Convert the categorical variables\n",
    "        categorical_variables = ['pickup_community_area', 'daytype', 'sky_level', 'Day Name', 'Month','Hour', 'Year']\n",
    "        categories = [[*(range(1,78))], ['U', 'W', 'A'], ['OVC', 'BKN', 'SCT', 'FEW', 'CLR', 'VV '], \n",
    "                      ['Monday', 'Tuesday', 'Wednesday', 'Thursday', 'Friday', 'Saturday', 'Sunday'], \n",
    "                      [*(range(1,13))], [*(range(0, 24))], [2017, 2018, 2019]]\n",
    "\n",
    "        \n",
    "        x = convert_to_categorical(x, categorical_variables, categories, need_pickup = need_pickup)\n",
    "\n",
    "        \n",
    "        # Make dummy variables with the categorical ones\n",
    "        if need_pickup:\n",
    "            begin = 0\n",
    "        else:\n",
    "            begin = 1\n",
    "        for i in range(begin, len(categorical_variables)):\n",
    "            x = dummie_and_drop(x, name = categorical_variables[i])\n",
    "\n",
    "        y = df['Trips'].to_numpy()\n",
    "\n",
    "        if need_pickup == False:\n",
    "            # If we don't need the pickup, it means this is Neural Network case. Therefore we have to modify Y, in order\n",
    "            # to have \"n_areas\" outputs per input (because there are \"n_areas\" regressions per input)\n",
    "            n_areas = 77\n",
    "            y = np.reshape(y, [-1, n_areas]) # If \n",
    "        \n",
    "        if drop_correlated:\n",
    "            x.drop(columns = ['Trips Last Week (Same Hour)'], inplace = True, axis = 1)\n",
    "            x.drop(columns = ['Trips 2 Weeks Ago (Same Hour)'], inplace = True, axis = 1)\n",
    "                \n",
    "        #x = x.to_numpy()\n",
    "        \n",
    "        return (x,y)   \n",
    "    \n",
    "# ------------------------------------- MAIN PROGRAM ------------------------\n",
    "\n",
    "    need_pickup = True \n",
    "    drop_correlated = False\n",
    "    \n",
    "    \n",
    "    name_train = 'dataset_train.csv'\n",
    "    #name_test = 'dataset_test.csv'\n",
    "    x, y = load(name_train, need_pickup, drop_correlated)\n",
    "    #x_test, y_test = load(name_test, need_pickup, drop_correlated)\n",
    "    x_train, x_test, y_train, y_test = train_test_split(x, y, test_size=0.5,shuffle=True)\n",
    "\n",
    "    \n",
    "    return (x_train, x_test, y_train, y_test)"
   ]
  },
  {
   "cell_type": "code",
   "execution_count": 300,
   "metadata": {},
   "outputs": [
    {
     "name": "stderr",
     "output_type": "stream",
     "text": [
      "C:\\Users\\Iconsense\\Anaconda3\\envs\\abhishek\\lib\\site-packages\\ipykernel_launcher.py:28: SettingWithCopyWarning: \n",
      "A value is trying to be set on a copy of a slice from a DataFrame.\n",
      "Try using .loc[row_indexer,col_indexer] = value instead\n",
      "\n",
      "See the caveats in the documentation: https://pandas.pydata.org/pandas-docs/stable/user_guide/indexing.html#returning-a-view-versus-a-copy\n"
     ]
    }
   ],
   "source": [
    "x_train, x_test, y_train, y_test = load_data()\n",
    "\n"
   ]
  },
  {
   "cell_type": "code",
   "execution_count": 301,
   "metadata": {},
   "outputs": [],
   "source": [
    "# OLS regression to calculate best model by comparing AIC values\n",
    "try:\n",
    "    import statsmodels.api as sm\n",
    "except ImportError:\n",
    "    import scikits.statsmodels.api as sm\n"
   ]
  },
  {
   "cell_type": "code",
   "execution_count": 302,
   "metadata": {
    "scrolled": true
   },
   "outputs": [],
   "source": [
    "x_train = sm.add_constant(x_train, prepend=True) #add a constant"
   ]
  },
  {
   "cell_type": "code",
   "execution_count": 303,
   "metadata": {},
   "outputs": [],
   "source": [
    "x_test=sm.add_constant(x_test, prepend=True)"
   ]
  },
  {
   "cell_type": "code",
   "execution_count": 304,
   "metadata": {},
   "outputs": [],
   "source": [
    "res = sm.OLS(y_train,x_train).fit() #create a model and fit it"
   ]
  },
  {
   "cell_type": "code",
   "execution_count": 305,
   "metadata": {},
   "outputs": [],
   "source": [
    "def metric(rf):\n",
    "    print(\"MAE Train\")\n",
    "    train=np.rint(rf.predict(x_train))\n",
    "    test=np.rint(rf.predict(x_test))\n",
    "    print(mean_absolute_error(train, y_train))\n",
    "    print(\"MAE Test\")\n",
    "    print(mean_absolute_error(test, y_test))\n",
    "\n",
    "    print(\"MSE Train\")\n",
    "    print(mean_squared_error(train, y_train))\n",
    "    print(\"MSE Test\")\n",
    "    print(mean_squared_error(test, y_test))\n",
    "    print(\"RMSE Train\")\n",
    "    print(rmse(train,y_train))\n",
    "    print(\"RMSE Test\")\n",
    "    print(rmse(test,y_test))"
   ]
  },
  {
   "cell_type": "code",
   "execution_count": 306,
   "metadata": {},
   "outputs": [
    {
     "name": "stdout",
     "output_type": "stream",
     "text": [
      "MAE Train\n",
      "1.1822000266004231\n",
      "MAE Test\n",
      "1.187460045735566\n",
      "MSE Train\n",
      "15.60590829718679\n",
      "MSE Test\n",
      "15.850647205453944\n",
      "RMSE Train\n",
      "3.950431406465222\n",
      "RMSE Test\n",
      "3.981287129240234\n"
     ]
    }
   ],
   "source": [
    "metric(res)"
   ]
  },
  {
   "cell_type": "code",
   "execution_count": 307,
   "metadata": {
    "scrolled": true
   },
   "outputs": [
    {
     "name": "stdout",
     "output_type": "stream",
     "text": [
      "                            OLS Regression Results                            \n",
      "==============================================================================\n",
      "Dep. Variable:                      y   R-squared:                       0.941\n",
      "Model:                            OLS   Adj. R-squared:                  0.941\n",
      "Method:                 Least Squares   F-statistic:                 1.123e+05\n",
      "Date:                Sun, 19 Apr 2020   Prob (F-statistic):               0.00\n",
      "Time:                        19:29:37   Log-Likelihood:            -2.6022e+06\n",
      "No. Observations:              932316   AIC:                         5.205e+06\n",
      "Df Residuals:                  932182   BIC:                         5.206e+06\n",
      "Df Model:                         133                                         \n",
      "Covariance Type:            nonrobust                                         \n",
      "=================================================================================================\n",
      "                                    coef    std err          t      P>|t|      [0.025      0.975]\n",
      "-------------------------------------------------------------------------------------------------\n",
      "const                            -0.4095      0.062     -6.601      0.000      -0.531      -0.288\n",
      "temperature                      -0.0002      0.000     -0.509      0.611      -0.001       0.001\n",
      "relative_humidity                 0.0006      0.000      1.952      0.051   -2.43e-06       0.001\n",
      "wind_direction                -6.362e-05   3.98e-05     -1.599      0.110      -0.000    1.44e-05\n",
      "wind_speed                        0.0024      0.001      2.359      0.018       0.000       0.004\n",
      "precipitation_cat                 0.0514      0.011      4.662      0.000       0.030       0.073\n",
      "Fare Last Month                2.243e-06   1.34e-07     16.770      0.000    1.98e-06    2.51e-06\n",
      "Trips Last Hour                   0.5331      0.001    792.343      0.000       0.532       0.534\n",
      "Trips Last Week (Same Hour)       0.2640      0.001    329.004      0.000       0.262       0.266\n",
      "Trips 2 Weeks Ago (Same Hour)     0.1846      0.001    240.277      0.000       0.183       0.186\n",
      "pickup_community_area_1          -0.0082      0.051     -0.161      0.872      -0.108       0.091\n",
      "pickup_community_area_2          -0.0216      0.051     -0.425      0.671      -0.121       0.078\n",
      "pickup_community_area_3          -0.0273      0.051     -0.539      0.590      -0.127       0.072\n",
      "pickup_community_area_4          -0.0430      0.051     -0.847      0.397      -0.143       0.057\n",
      "pickup_community_area_5           0.0056      0.051      0.111      0.911      -0.094       0.105\n",
      "pickup_community_area_6          -0.1674      0.053     -3.186      0.001      -0.270      -0.064\n",
      "pickup_community_area_7          -0.0776      0.051     -1.521      0.128      -0.178       0.022\n",
      "pickup_community_area_8          -0.1318      0.095     -1.389      0.165      -0.318       0.054\n",
      "pickup_community_area_9           0.0068      0.051      0.133      0.894      -0.093       0.106\n",
      "pickup_community_area_10          0.0023      0.051      0.045      0.964      -0.098       0.102\n",
      "pickup_community_area_11         -0.0019      0.051     -0.038      0.970      -0.101       0.098\n",
      "pickup_community_area_12          0.0024      0.051      0.046      0.963      -0.098       0.102\n",
      "pickup_community_area_13          0.0027      0.051      0.053      0.957      -0.097       0.103\n",
      "pickup_community_area_14         -0.0148      0.051     -0.292      0.771      -0.114       0.085\n",
      "pickup_community_area_15         -0.0057      0.051     -0.111      0.911      -0.105       0.094\n",
      "pickup_community_area_16          0.0085      0.051      0.168      0.867      -0.091       0.108\n",
      "pickup_community_area_17         -0.0002      0.051     -0.003      0.998      -0.100       0.100\n",
      "pickup_community_area_18          0.0086      0.051      0.169      0.866      -0.091       0.109\n",
      "pickup_community_area_19          0.0020      0.051      0.040      0.968      -0.098       0.102\n",
      "pickup_community_area_20          0.0027      0.051      0.052      0.958      -0.097       0.102\n",
      "pickup_community_area_21         -0.0036      0.051     -0.070      0.944      -0.104       0.096\n",
      "pickup_community_area_22         -0.0015      0.051     -0.030      0.976      -0.101       0.098\n",
      "pickup_community_area_23         -0.0057      0.051     -0.111      0.911      -0.106       0.094\n",
      "pickup_community_area_24          0.0268      0.051      0.531      0.596      -0.072       0.126\n",
      "pickup_community_area_25         -0.0006      0.051     -0.011      0.991      -0.100       0.099\n",
      "pickup_community_area_26          0.0006      0.051      0.012      0.990      -0.099       0.100\n",
      "pickup_community_area_27          0.0017      0.051      0.033      0.974      -0.098       0.102\n",
      "pickup_community_area_28          0.0640      0.055      1.167      0.243      -0.043       0.171\n",
      "pickup_community_area_29          0.0072      0.051      0.141      0.888      -0.093       0.107\n",
      "pickup_community_area_30         -0.0003      0.051     -0.005      0.996      -0.100       0.100\n",
      "pickup_community_area_31          0.0028      0.051      0.054      0.957      -0.097       0.103\n",
      "pickup_community_area_32         -0.2213      0.079     -2.795      0.005      -0.376      -0.066\n",
      "pickup_community_area_33         -0.0554      0.051     -1.092      0.275      -0.155       0.044\n",
      "pickup_community_area_34          0.0078      0.051      0.153      0.879      -0.092       0.108\n",
      "pickup_community_area_35          0.0061      0.051      0.120      0.905      -0.094       0.106\n",
      "pickup_community_area_36         -0.0001      0.051     -0.002      0.998      -0.100       0.100\n",
      "pickup_community_area_37          0.0054      0.051      0.105      0.916      -0.095       0.106\n",
      "pickup_community_area_38          0.0050      0.051      0.098      0.922      -0.095       0.105\n",
      "pickup_community_area_39         -0.0021      0.051     -0.041      0.967      -0.102       0.098\n",
      "pickup_community_area_40          0.0002      0.051      0.004      0.997      -0.100       0.100\n",
      "pickup_community_area_41         -0.0071      0.051     -0.140      0.889      -0.107       0.093\n",
      "pickup_community_area_42          0.0044      0.051      0.086      0.932      -0.095       0.104\n",
      "pickup_community_area_43         -0.0060      0.051     -0.117      0.907      -0.106       0.094\n",
      "pickup_community_area_44          0.0014      0.051      0.027      0.978      -0.099       0.101\n",
      "pickup_community_area_45          0.0041      0.051      0.080      0.937      -0.096       0.104\n",
      "pickup_community_area_46          0.0029      0.051      0.057      0.954      -0.097       0.103\n",
      "pickup_community_area_47          0.0055      0.051      0.108      0.914      -0.095       0.106\n",
      "pickup_community_area_48          0.0060      0.051      0.118      0.906      -0.094       0.106\n",
      "pickup_community_area_49         -0.0011      0.051     -0.023      0.982      -0.101       0.099\n",
      "pickup_community_area_50          0.0101      0.051      0.198      0.843      -0.090       0.110\n",
      "pickup_community_area_51         -0.0008      0.051     -0.016      0.987      -0.101       0.100\n",
      "pickup_community_area_52          0.0028      0.051      0.056      0.955      -0.097       0.103\n",
      "pickup_community_area_53          0.0017      0.051      0.033      0.974      -0.098       0.102\n",
      "pickup_community_area_54          0.0021      0.051      0.042      0.967      -0.098       0.102\n",
      "pickup_community_area_55          0.0044      0.051      0.085      0.932      -0.096       0.104\n",
      "pickup_community_area_56         -0.0899      0.051     -1.770      0.077      -0.189       0.010\n",
      "pickup_community_area_57          0.0078      0.051      0.152      0.879      -0.092       0.108\n",
      "pickup_community_area_58          0.0039      0.051      0.075      0.940      -0.096       0.104\n",
      "pickup_community_area_59          0.0044      0.051      0.086      0.931      -0.096       0.105\n",
      "pickup_community_area_60          0.0040      0.051      0.079      0.937      -0.096       0.104\n",
      "pickup_community_area_61          0.0025      0.051      0.049      0.961      -0.098       0.103\n",
      "pickup_community_area_62          0.0047      0.051      0.092      0.926      -0.095       0.105\n",
      "pickup_community_area_63          0.0084      0.051      0.164      0.870      -0.092       0.109\n",
      "pickup_community_area_64          0.0076      0.051      0.148      0.882      -0.093       0.108\n",
      "pickup_community_area_65          0.0048      0.051      0.094      0.925      -0.095       0.105\n",
      "pickup_community_area_66          0.0007      0.051      0.014      0.989      -0.099       0.101\n",
      "pickup_community_area_67         -0.0008      0.051     -0.016      0.987      -0.101       0.099\n",
      "pickup_community_area_68          0.0062      0.051      0.121      0.904      -0.094       0.106\n",
      "pickup_community_area_69          0.0031      0.051      0.062      0.951      -0.097       0.103\n",
      "pickup_community_area_70          0.0050      0.051      0.098      0.922      -0.095       0.105\n",
      "pickup_community_area_71         -0.0039      0.051     -0.077      0.939      -0.104       0.096\n",
      "pickup_community_area_72          0.0053      0.051      0.103      0.918      -0.095       0.105\n",
      "pickup_community_area_73          0.0056      0.051      0.110      0.912      -0.094       0.106\n",
      "pickup_community_area_74          0.0013      0.051      0.026      0.980      -0.099       0.101\n",
      "pickup_community_area_75          0.0094      0.051      0.185      0.853      -0.091       0.109\n",
      "pickup_community_area_76         -0.8456      0.080    -10.586      0.000      -1.002      -0.689\n",
      "daytype_U                        -0.3518      0.022    -15.683      0.000      -0.396      -0.308\n",
      "daytype_W                         0.1866      0.028      6.607      0.000       0.131       0.242\n",
      "sky_level_OVC                     0.0570      0.061      0.938      0.348      -0.062       0.176\n",
      "sky_level_BKN                     0.0042      0.061      0.069      0.945      -0.115       0.124\n",
      "sky_level_SCT                    -0.0162      0.061     -0.265      0.791      -0.136       0.104\n",
      "sky_level_FEW                     0.0081      0.061      0.134      0.894      -0.111       0.127\n",
      "sky_level_CLR                     0.0697      0.062      1.123      0.261      -0.052       0.191\n",
      "Day Name_Monday                  -0.3767      0.027    -14.064      0.000      -0.429      -0.324\n",
      "Day Name_Tuesday                 -0.4032      0.029    -13.983      0.000      -0.460      -0.347\n",
      "Day Name_Wednesday               -0.4064      0.029    -13.796      0.000      -0.464      -0.349\n",
      "Day Name_Thursday                -0.3792      0.029    -13.020      0.000      -0.436      -0.322\n",
      "Day Name_Friday                  -0.3824      0.029    -13.051      0.000      -0.440      -0.325\n",
      "Day Name_Saturday                -0.2443      0.024    -10.286      0.000      -0.291      -0.198\n",
      "Month_1                           0.1640      0.023      7.234      0.000       0.120       0.208\n",
      "Month_2                           0.2203      0.022      9.882      0.000       0.177       0.264\n",
      "Month_3                           0.1449      0.022      6.500      0.000       0.101       0.189\n",
      "Month_4                           0.1319      0.024      5.608      0.000       0.086       0.178\n",
      "Month_5                           0.0647      0.025      2.551      0.011       0.015       0.114\n",
      "Month_6                           0.1641      0.028      5.868      0.000       0.109       0.219\n",
      "Month_7                           0.1044      0.029      3.572      0.000       0.047       0.162\n",
      "Month_8                           0.0967      0.028      3.395      0.001       0.041       0.152\n",
      "Month_9                           0.1952      0.028      7.079      0.000       0.141       0.249\n",
      "Month_10                          0.0707      0.024      2.953      0.003       0.024       0.118\n",
      "Month_11                          0.1330      0.024      5.571      0.000       0.086       0.180\n",
      "Hour_0                            0.1598      0.028      5.653      0.000       0.104       0.215\n",
      "Hour_1                            0.2553      0.028      9.005      0.000       0.200       0.311\n",
      "Hour_2                            0.1974      0.028      6.958      0.000       0.142       0.253\n",
      "Hour_3                            0.1766      0.028      6.226      0.000       0.121       0.232\n",
      "Hour_4                            0.2078      0.028      7.303      0.000       0.152       0.264\n",
      "Hour_5                            0.3954      0.028     13.922      0.000       0.340       0.451\n",
      "Hour_6                            0.7322      0.028     25.761      0.000       0.676       0.788\n",
      "Hour_7                            1.1534      0.028     40.494      0.000       1.098       1.209\n",
      "Hour_8                            1.1293      0.028     39.768      0.000       1.074       1.185\n",
      "Hour_9                            0.4893      0.028     17.258      0.000       0.434       0.545\n",
      "Hour_10                           0.3982      0.028     14.018      0.000       0.343       0.454\n",
      "Hour_11                           0.9367      0.029     32.791      0.000       0.881       0.993\n",
      "Hour_12                           0.5079      0.029     17.719      0.000       0.452       0.564\n",
      "Hour_13                           0.3557      0.029     12.375      0.000       0.299       0.412\n",
      "Hour_14                           0.5111      0.029     17.708      0.000       0.455       0.568\n",
      "Hour_15                           0.6297      0.029     21.787      0.000       0.573       0.686\n",
      "Hour_16                           0.7343      0.029     25.457      0.000       0.678       0.791\n",
      "Hour_17                           0.6842      0.029     23.794      0.000       0.628       0.741\n",
      "Hour_18                           0.4478      0.029     15.639      0.000       0.392       0.504\n",
      "Hour_19                           0.1853      0.028      6.503      0.000       0.129       0.241\n",
      "Hour_20                           0.0002      0.028      0.007      0.994      -0.055       0.056\n",
      "Hour_21                           0.4799      0.028     16.959      0.000       0.424       0.535\n",
      "Hour_22                           0.3887      0.028     13.766      0.000       0.333       0.444\n",
      "Year_2017                        -0.0044      0.011     -0.405      0.685      -0.026       0.017\n",
      "Year_2018                         0.0046      0.010      0.442      0.658      -0.016       0.025\n",
      "==============================================================================\n",
      "Omnibus:                   606870.711   Durbin-Watson:                   1.997\n",
      "Prob(Omnibus):                  0.000   Jarque-Bera (JB):        852706837.513\n",
      "Skew:                           1.636   Prob(JB):                         0.00\n",
      "Kurtosis:                     151.121   Cond. No.                     1.23e+18\n",
      "==============================================================================\n",
      "\n",
      "Warnings:\n",
      "[1] Standard Errors assume that the covariance matrix of the errors is correctly specified.\n",
      "[2] The smallest eigenvalue is 8.83e-21. This might indicate that there are\n",
      "strong multicollinearity problems or that the design matrix is singular.\n"
     ]
    }
   ],
   "source": [
    "print(res.summary()) "
   ]
  },
  {
   "cell_type": "code",
   "execution_count": 308,
   "metadata": {},
   "outputs": [],
   "source": [
    "# AIC is a very high i.e = 8.337e+06 , so maybe we can get a better model by removing non-significant variables\n",
    "# We can remove the non-significant variables after comparing p-value with value of alpha(=0.05). \n",
    "# Variables like temperature, relative_humidity are coming as non-significant.\n",
    "\n",
    "x_train = x_train.drop(columns = ['temperature', 'wind_direction','Month_6'])"
   ]
  },
  {
   "cell_type": "code",
   "execution_count": 312,
   "metadata": {},
   "outputs": [],
   "source": [
    "x_test=x_test.drop(columns = ['temperature', 'wind_direction','Month_6'])"
   ]
  },
  {
   "cell_type": "code",
   "execution_count": 309,
   "metadata": {},
   "outputs": [],
   "source": [
    "res2 = sm.OLS(y_train,x_train).fit() #create a model and fit it"
   ]
  },
  {
   "cell_type": "code",
   "execution_count": 310,
   "metadata": {},
   "outputs": [
    {
     "name": "stdout",
     "output_type": "stream",
     "text": [
      "                            OLS Regression Results                            \n",
      "==============================================================================\n",
      "Dep. Variable:                      y   R-squared:                       0.941\n",
      "Model:                            OLS   Adj. R-squared:                  0.941\n",
      "Method:                 Least Squares   F-statistic:                 1.148e+05\n",
      "Date:                Sun, 19 Apr 2020   Prob (F-statistic):               0.00\n",
      "Time:                        19:30:38   Log-Likelihood:            -2.6022e+06\n",
      "No. Observations:              932316   AIC:                         5.205e+06\n",
      "Df Residuals:                  932185   BIC:                         5.206e+06\n",
      "Df Model:                         130                                         \n",
      "Covariance Type:            nonrobust                                         \n",
      "=================================================================================================\n",
      "                                    coef    std err          t      P>|t|      [0.025      0.975]\n",
      "-------------------------------------------------------------------------------------------------\n",
      "const                            -0.3406      0.060     -5.689      0.000      -0.458      -0.223\n",
      "relative_humidity                 0.0005      0.000      1.506      0.132      -0.000       0.001\n",
      "wind_speed                        0.0019      0.001      1.980      0.048    1.97e-05       0.004\n",
      "precipitation_cat                 0.0556      0.011      5.049      0.000       0.034       0.077\n",
      "Fare Last Month                2.305e-06   1.33e-07     17.264      0.000    2.04e-06    2.57e-06\n",
      "Trips Last Hour                   0.5332      0.001    792.433      0.000       0.532       0.534\n",
      "Trips Last Week (Same Hour)       0.2639      0.001    328.957      0.000       0.262       0.265\n",
      "Trips 2 Weeks Ago (Same Hour)     0.1846      0.001    240.285      0.000       0.183       0.186\n",
      "pickup_community_area_1          -0.0065      0.051     -0.129      0.897      -0.106       0.093\n",
      "pickup_community_area_2          -0.0202      0.051     -0.397      0.691      -0.120       0.079\n",
      "pickup_community_area_3          -0.0269      0.051     -0.531      0.596      -0.126       0.073\n",
      "pickup_community_area_4          -0.0415      0.051     -0.816      0.414      -0.141       0.058\n",
      "pickup_community_area_5           0.0077      0.051      0.152      0.879      -0.092       0.107\n",
      "pickup_community_area_6          -0.1736      0.053     -3.303      0.001      -0.277      -0.071\n",
      "pickup_community_area_7          -0.0798      0.051     -1.564      0.118      -0.180       0.020\n",
      "pickup_community_area_8          -0.1687      0.095     -1.779      0.075      -0.354       0.017\n",
      "pickup_community_area_9           0.0098      0.051      0.194      0.846      -0.090       0.109\n",
      "pickup_community_area_10          0.0051      0.051      0.100      0.920      -0.095       0.105\n",
      "pickup_community_area_11          0.0010      0.051      0.021      0.984      -0.098       0.101\n",
      "pickup_community_area_12          0.0056      0.051      0.109      0.913      -0.095       0.106\n",
      "pickup_community_area_13          0.0057      0.051      0.112      0.911      -0.094       0.106\n",
      "pickup_community_area_14         -0.0125      0.051     -0.246      0.806      -0.112       0.087\n",
      "pickup_community_area_15         -0.0033      0.051     -0.065      0.948      -0.103       0.096\n",
      "pickup_community_area_16          0.0107      0.051      0.210      0.834      -0.089       0.110\n",
      "pickup_community_area_17          0.0029      0.051      0.056      0.955      -0.097       0.103\n",
      "pickup_community_area_18          0.0119      0.051      0.233      0.816      -0.088       0.112\n",
      "pickup_community_area_19          0.0051      0.051      0.100      0.920      -0.095       0.105\n",
      "pickup_community_area_20          0.0059      0.051      0.116      0.908      -0.094       0.106\n",
      "pickup_community_area_21         -0.0010      0.051     -0.019      0.985      -0.101       0.099\n",
      "pickup_community_area_22          0.0004      0.051      0.008      0.994      -0.099       0.100\n",
      "pickup_community_area_23         -0.0029      0.051     -0.056      0.955      -0.103       0.097\n",
      "pickup_community_area_24          0.0268      0.051      0.530      0.596      -0.072       0.126\n",
      "pickup_community_area_25          0.0022      0.051      0.042      0.966      -0.098       0.102\n",
      "pickup_community_area_26          0.0037      0.051      0.072      0.943      -0.096       0.103\n",
      "pickup_community_area_27          0.0048      0.051      0.094      0.925      -0.095       0.105\n",
      "pickup_community_area_28          0.0548      0.055      1.001      0.317      -0.053       0.162\n",
      "pickup_community_area_29          0.0105      0.051      0.206      0.837      -0.089       0.110\n",
      "pickup_community_area_30          0.0029      0.051      0.056      0.955      -0.097       0.103\n",
      "pickup_community_area_31          0.0057      0.051      0.112      0.911      -0.094       0.105\n",
      "pickup_community_area_32         -0.2491      0.079     -3.150      0.002      -0.404      -0.094\n",
      "pickup_community_area_33         -0.0560      0.051     -1.104      0.270      -0.155       0.043\n",
      "pickup_community_area_34          0.0106      0.051      0.208      0.835      -0.089       0.110\n",
      "pickup_community_area_35          0.0093      0.051      0.183      0.855      -0.090       0.109\n",
      "pickup_community_area_36          0.0030      0.051      0.059      0.953      -0.097       0.103\n",
      "pickup_community_area_37          0.0087      0.051      0.169      0.866      -0.092       0.109\n",
      "pickup_community_area_38          0.0082      0.051      0.160      0.873      -0.092       0.108\n",
      "pickup_community_area_39          0.0008      0.051      0.016      0.987      -0.099       0.101\n",
      "pickup_community_area_40          0.0030      0.051      0.059      0.953      -0.097       0.103\n",
      "pickup_community_area_41         -0.0049      0.051     -0.096      0.923      -0.105       0.095\n",
      "pickup_community_area_42          0.0076      0.051      0.148      0.882      -0.092       0.107\n",
      "pickup_community_area_43         -0.0030      0.051     -0.059      0.953      -0.103       0.097\n",
      "pickup_community_area_44          0.0041      0.051      0.080      0.936      -0.096       0.104\n",
      "pickup_community_area_45          0.0075      0.051      0.148      0.883      -0.093       0.108\n",
      "pickup_community_area_46          0.0060      0.051      0.118      0.906      -0.094       0.106\n",
      "pickup_community_area_47          0.0083      0.051      0.162      0.871      -0.092       0.109\n",
      "pickup_community_area_48          0.0093      0.051      0.183      0.855      -0.091       0.109\n",
      "pickup_community_area_49          0.0017      0.051      0.034      0.973      -0.098       0.102\n",
      "pickup_community_area_50          0.0129      0.051      0.253      0.800      -0.087       0.113\n",
      "pickup_community_area_51          0.0022      0.051      0.043      0.966      -0.098       0.103\n",
      "pickup_community_area_52          0.0058      0.051      0.114      0.909      -0.094       0.106\n",
      "pickup_community_area_53          0.0043      0.051      0.083      0.933      -0.096       0.104\n",
      "pickup_community_area_54          0.0053      0.051      0.104      0.917      -0.095       0.105\n",
      "pickup_community_area_55          0.0076      0.051      0.149      0.881      -0.092       0.108\n",
      "pickup_community_area_56         -0.0905      0.051     -1.783      0.075      -0.190       0.009\n",
      "pickup_community_area_57          0.0107      0.051      0.210      0.834      -0.089       0.111\n",
      "pickup_community_area_58          0.0069      0.051      0.135      0.893      -0.093       0.107\n",
      "pickup_community_area_59          0.0077      0.051      0.152      0.879      -0.092       0.108\n",
      "pickup_community_area_60          0.0072      0.051      0.141      0.888      -0.093       0.107\n",
      "pickup_community_area_61          0.0056      0.051      0.110      0.912      -0.095       0.106\n",
      "pickup_community_area_62          0.0077      0.051      0.151      0.880      -0.092       0.108\n",
      "pickup_community_area_63          0.0119      0.051      0.233      0.816      -0.088       0.112\n",
      "pickup_community_area_64          0.0105      0.051      0.206      0.837      -0.090       0.111\n",
      "pickup_community_area_65          0.0080      0.051      0.156      0.876      -0.092       0.108\n",
      "pickup_community_area_66          0.0036      0.051      0.071      0.943      -0.097       0.104\n",
      "pickup_community_area_67          0.0021      0.051      0.041      0.967      -0.098       0.102\n",
      "pickup_community_area_68          0.0091      0.051      0.179      0.858      -0.091       0.109\n",
      "pickup_community_area_69          0.0059      0.051      0.116      0.908      -0.094       0.106\n",
      "pickup_community_area_70          0.0081      0.051      0.159      0.874      -0.092       0.108\n",
      "pickup_community_area_71         -0.0010      0.051     -0.020      0.984      -0.101       0.099\n",
      "pickup_community_area_72          0.0084      0.051      0.164      0.869      -0.091       0.108\n",
      "pickup_community_area_73          0.0086      0.051      0.169      0.866      -0.091       0.109\n",
      "pickup_community_area_74          0.0043      0.051      0.085      0.932      -0.096       0.104\n",
      "pickup_community_area_75          0.0125      0.051      0.246      0.806      -0.087       0.113\n",
      "pickup_community_area_76         -0.8743      0.080    -10.958      0.000      -1.031      -0.718\n",
      "daytype_U                        -0.3310      0.022    -15.181      0.000      -0.374      -0.288\n",
      "daytype_W                         0.2138      0.028      7.739      0.000       0.160       0.268\n",
      "sky_level_OVC                     0.0587      0.061      0.966      0.334      -0.060       0.178\n",
      "sky_level_BKN                     0.0070      0.061      0.115      0.908      -0.112       0.126\n",
      "sky_level_SCT                    -0.0110      0.061     -0.179      0.858      -0.131       0.109\n",
      "sky_level_FEW                     0.0134      0.061      0.220      0.826      -0.106       0.133\n",
      "sky_level_CLR                     0.0724      0.062      1.166      0.244      -0.049       0.194\n",
      "Day Name_Monday                  -0.3829      0.027    -14.306      0.000      -0.435      -0.330\n",
      "Day Name_Tuesday                 -0.4102      0.029    -14.234      0.000      -0.467      -0.354\n",
      "Day Name_Wednesday               -0.4138      0.029    -14.057      0.000      -0.471      -0.356\n",
      "Day Name_Thursday                -0.3858      0.029    -13.251      0.000      -0.443      -0.329\n",
      "Day Name_Friday                  -0.3885      0.029    -13.267      0.000      -0.446      -0.331\n",
      "Day Name_Saturday                -0.2234      0.023     -9.629      0.000      -0.269      -0.178\n",
      "Month_1                           0.0721      0.019      3.870      0.000       0.036       0.109\n",
      "Month_2                           0.1279      0.018      7.054      0.000       0.092       0.163\n",
      "Month_3                           0.0511      0.017      2.922      0.003       0.017       0.085\n",
      "Month_4                           0.0367      0.018      2.075      0.038       0.002       0.071\n",
      "Month_5                          -0.0325      0.017     -1.874      0.061      -0.066       0.001\n",
      "Month_7                           0.0018      0.017      0.102      0.919      -0.032       0.036\n",
      "Month_8                          -0.0058      0.017     -0.331      0.741      -0.040       0.028\n",
      "Month_9                           0.0952      0.018      5.422      0.000       0.061       0.130\n",
      "Month_10                         -0.0276      0.017     -1.594      0.111      -0.062       0.006\n",
      "Month_11                          0.0421      0.020      2.087      0.037       0.003       0.082\n",
      "Hour_0                            0.1597      0.028      5.649      0.000       0.104       0.215\n",
      "Hour_1                            0.2553      0.028      9.008      0.000       0.200       0.311\n",
      "Hour_2                            0.1980      0.028      6.980      0.000       0.142       0.254\n",
      "Hour_3                            0.1768      0.028      6.239      0.000       0.121       0.232\n",
      "Hour_4                            0.2084      0.028      7.329      0.000       0.153       0.264\n",
      "Hour_5                            0.3964      0.028     13.972      0.000       0.341       0.452\n",
      "Hour_6                            0.7330      0.028     25.827      0.000       0.677       0.789\n",
      "Hour_7                            1.1535      0.028     40.559      0.000       1.098       1.209\n",
      "Hour_8                            1.1291      0.028     39.784      0.000       1.074       1.185\n",
      "Hour_9                            0.4881      0.028     17.220      0.000       0.433       0.544\n",
      "Hour_10                           0.3963      0.028     13.953      0.000       0.341       0.452\n",
      "Hour_11                           0.9345      0.029     32.749      0.000       0.879       0.990\n",
      "Hour_12                           0.5050      0.029     17.650      0.000       0.449       0.561\n",
      "Hour_13                           0.3525      0.029     12.298      0.000       0.296       0.409\n",
      "Hour_14                           0.5080      0.029     17.666      0.000       0.452       0.564\n",
      "Hour_15                           0.6266      0.029     21.770      0.000       0.570       0.683\n",
      "Hour_16                           0.7318      0.029     25.467      0.000       0.675       0.788\n",
      "Hour_17                           0.6817      0.029     23.785      0.000       0.626       0.738\n",
      "Hour_18                           0.4459      0.029     15.609      0.000       0.390       0.502\n",
      "Hour_19                           0.1839      0.028      6.465      0.000       0.128       0.240\n",
      "Hour_20                          -0.0008      0.028     -0.027      0.979      -0.056       0.055\n",
      "Hour_21                           0.4798      0.028     16.962      0.000       0.424       0.535\n",
      "Hour_22                           0.3880      0.028     13.743      0.000       0.333       0.443\n",
      "Year_2017                        -0.0174      0.011     -1.627      0.104      -0.038       0.004\n",
      "Year_2018                        -0.0056      0.010     -0.546      0.585      -0.026       0.015\n",
      "==============================================================================\n",
      "Omnibus:                   606701.949   Durbin-Watson:                   1.997\n",
      "Prob(Omnibus):                  0.000   Jarque-Bera (JB):        852748791.636\n",
      "Skew:                           1.635   Prob(JB):                         0.00\n",
      "Kurtosis:                     151.125   Cond. No.                     2.32e+15\n",
      "==============================================================================\n",
      "\n",
      "Warnings:\n",
      "[1] Standard Errors assume that the covariance matrix of the errors is correctly specified.\n",
      "[2] The smallest eigenvalue is 2.49e-15. This might indicate that there are\n",
      "strong multicollinearity problems or that the design matrix is singular.\n"
     ]
    }
   ],
   "source": [
    "print(res2.summary())"
   ]
  },
  {
   "cell_type": "code",
   "execution_count": 313,
   "metadata": {},
   "outputs": [
    {
     "name": "stdout",
     "output_type": "stream",
     "text": [
      "MAE Train\n",
      "1.1805278467815634\n",
      "MAE Test\n",
      "1.1855229342840838\n",
      "MSE Train\n",
      "15.605119937875141\n",
      "MSE Test\n",
      "15.849345071842594\n",
      "RMSE Train\n",
      "3.9503316237849124\n",
      "RMSE Test\n",
      "3.9811235941430647\n"
     ]
    }
   ],
   "source": [
    "metric(res2)"
   ]
  },
  {
   "cell_type": "code",
   "execution_count": null,
   "metadata": {},
   "outputs": [],
   "source": [
    "# The AIC value has not changed when compared to previous value. It is equal to 8.337e+06.\n",
    "# Almost all variables are having high p-value"
   ]
  },
  {
   "cell_type": "markdown",
   "metadata": {},
   "source": [
    "Clearly the p-value of all pickup-communities is very high which shows them as insignificant according to OLS \n",
    "regression which is not the case for our analysis as it is a very important variable useful in predicting our target\n",
    "variable which is Trips. So we can conclude that Linear Regression is not a good model for our analysis"
   ]
  },
  {
   "cell_type": "code",
   "execution_count": null,
   "metadata": {},
   "outputs": [],
   "source": [
    "\n"
   ]
  },
  {
   "cell_type": "code",
   "execution_count": null,
   "metadata": {},
   "outputs": [],
   "source": []
  }
 ],
 "metadata": {
  "kernelspec": {
   "display_name": "Python 3",
   "language": "python",
   "name": "python3"
  },
  "language_info": {
   "codemirror_mode": {
    "name": "ipython",
    "version": 3
   },
   "file_extension": ".py",
   "mimetype": "text/x-python",
   "name": "python",
   "nbconvert_exporter": "python",
   "pygments_lexer": "ipython3",
   "version": "3.7.6"
  }
 },
 "nbformat": 4,
 "nbformat_minor": 2
}
